{
 "cells": [
  {
   "cell_type": "markdown",
   "metadata": {
    "colab_type": "text",
    "id": "7VfCAE4LzOaP"
   },
   "source": [
    "# Data Preparation"
   ]
  },
  {
   "cell_type": "code",
   "execution_count": 1,
   "metadata": {
    "colab": {},
    "colab_type": "code",
    "executionInfo": {
     "elapsed": 2694,
     "status": "ok",
     "timestamp": 1599572019227,
     "user": {
      "displayName": "Reza Dwi Utomo",
      "photoUrl": "https://lh3.googleusercontent.com/a-/AOh14GjuLhy_JmgD4iWFIjOE-G6ClGlqtizVTS9lhAZQ=s64",
      "userId": "08330585941225764736"
     },
     "user_tz": -420
    },
    "id": "cUUu_lkTzxD3"
   },
   "outputs": [],
   "source": [
    "# import necessary libraries to get the data\n",
    "import requests\n",
    "import html5lib\n",
    "from bs4 import BeautifulSoup as bs\n",
    "from nltk.tokenize import sent_tokenize\n",
    "import pandas as pd"
   ]
  },
  {
   "cell_type": "code",
   "execution_count": 2,
   "metadata": {
    "colab": {
     "base_uri": "https://localhost:8080/",
     "height": 68
    },
    "colab_type": "code",
    "executionInfo": {
     "elapsed": 2406,
     "status": "ok",
     "timestamp": 1599572026053,
     "user": {
      "displayName": "Reza Dwi Utomo",
      "photoUrl": "https://lh3.googleusercontent.com/a-/AOh14GjuLhy_JmgD4iWFIjOE-G6ClGlqtizVTS9lhAZQ=s64",
      "userId": "08330585941225764736"
     },
     "user_tz": -420
    },
    "id": "sMDUk-FAw3n2",
    "outputId": "3fe3abfd-8ffc-4a12-e5d5-d47eabd0c42b"
   },
   "outputs": [
    {
     "name": "stdout",
     "output_type": "stream",
     "text": [
      "[nltk_data] Downloading package punkt to /root/nltk_data...\n",
      "[nltk_data]   Unzipping tokenizers/punkt.zip.\n"
     ]
    },
    {
     "data": {
      "text/plain": [
       "True"
      ]
     },
     "execution_count": 2,
     "metadata": {
      "tags": []
     },
     "output_type": "execute_result"
    }
   ],
   "source": [
    "# in case we need to download NLTK punctuations\n",
    "import nltk\n",
    "nltk.download('punkt')"
   ]
  },
  {
   "cell_type": "code",
   "execution_count": 2,
   "metadata": {
    "colab": {},
    "colab_type": "code",
    "executionInfo": {
     "elapsed": 2472,
     "status": "ok",
     "timestamp": 1599572030713,
     "user": {
      "displayName": "Reza Dwi Utomo",
      "photoUrl": "https://lh3.googleusercontent.com/a-/AOh14GjuLhy_JmgD4iWFIjOE-G6ClGlqtizVTS9lhAZQ=s64",
      "userId": "08330585941225764736"
     },
     "user_tz": -420
    },
    "id": "sttLZW_h0DWc"
   },
   "outputs": [],
   "source": [
    "link = 'https://republika.co.id/berita/qcsbt4383/akhlak-sebagai-emcore-valueem-bumn-erick-thohir-bismillah' #'https://ekonomi-islam.com/tag/teori-teori-ekonomi-islam/'\n",
    "req = requests.get(link)\n",
    "soup = bs(req.content, 'html5lib')"
   ]
  },
  {
   "cell_type": "code",
   "execution_count": 3,
   "metadata": {
    "colab": {},
    "colab_type": "code",
    "executionInfo": {
     "elapsed": 887,
     "status": "ok",
     "timestamp": 1599572097960,
     "user": {
      "displayName": "Reza Dwi Utomo",
      "photoUrl": "https://lh3.googleusercontent.com/a-/AOh14GjuLhy_JmgD4iWFIjOE-G6ClGlqtizVTS9lhAZQ=s64",
      "userId": "08330585941225764736"
     },
     "user_tz": -420
    },
    "id": "6Y3qzLBZ7P0J"
   },
   "outputs": [],
   "source": [
    "paragraphs = soup.findAll('p')"
   ]
  },
  {
   "cell_type": "code",
   "execution_count": 4,
   "metadata": {
    "colab": {},
    "colab_type": "code",
    "executionInfo": {
     "elapsed": 828,
     "status": "ok",
     "timestamp": 1599572162195,
     "user": {
      "displayName": "Reza Dwi Utomo",
      "photoUrl": "https://lh3.googleusercontent.com/a-/AOh14GjuLhy_JmgD4iWFIjOE-G6ClGlqtizVTS9lhAZQ=s64",
      "userId": "08330585941225764736"
     },
     "user_tz": -420
    },
    "id": "FkYxkPDA7UZ1"
   },
   "outputs": [],
   "source": [
    "text = []\n",
    "for p in paragraphs:\n",
    "  text.append(p.text)"
   ]
  },
  {
   "cell_type": "markdown",
   "metadata": {
    "colab_type": "text",
    "id": "gDOWODmozWpC"
   },
   "source": [
    "# Data Preprocessing"
   ]
  },
  {
   "cell_type": "code",
   "execution_count": 5,
   "metadata": {
    "colab": {},
    "colab_type": "code",
    "executionInfo": {
     "elapsed": 780,
     "status": "ok",
     "timestamp": 1599575850058,
     "user": {
      "displayName": "Reza Dwi Utomo",
      "photoUrl": "https://lh3.googleusercontent.com/a-/AOh14GjuLhy_JmgD4iWFIjOE-G6ClGlqtizVTS9lhAZQ=s64",
      "userId": "08330585941225764736"
     },
     "user_tz": -420
    },
    "id": "Na_i03UjIfLf"
   },
   "outputs": [],
   "source": [
    "text_ready = ' '.join(text[5:7])"
   ]
  },
  {
   "cell_type": "code",
   "execution_count": 6,
   "metadata": {
    "colab": {
     "base_uri": "https://localhost:8080/",
     "height": 137
    },
    "colab_type": "code",
    "executionInfo": {
     "elapsed": 881,
     "status": "ok",
     "timestamp": 1599575767045,
     "user": {
      "displayName": "Reza Dwi Utomo",
      "photoUrl": "https://lh3.googleusercontent.com/a-/AOh14GjuLhy_JmgD4iWFIjOE-G6ClGlqtizVTS9lhAZQ=s64",
      "userId": "08330585941225764736"
     },
     "user_tz": -420
    },
    "id": "VsbI6UiK8bDE",
    "outputId": "7d1efa00-2578-4028-ef17-d386d7da5ede"
   },
   "outputs": [
    {
     "data": {
      "text/plain": [
       "'Menteri BUMN Erick Thohir meluncurkan logo baru Kementerian BUMN di halaman kantor Kementerian BUMN, Jakarta, Rabu (1/7).  REPUBLIKA.CO.ID, JAKARTA -- Menteri Badan Usaha Milik Negara (BUMN) Erick Thohir secara resmi menetapkan akhlak sebagai core value dari BUMN pada Rabu (1/7). Penetapan akhlak sebagai core value BUMN bersamaan dengan acara perubahan logo dan slogan Kementerian BUMN.\"Hari ini juga saya ingin menetapkan akhlak sebagai core value bukan lip service karena kalau kita bekerja ada core value, ini yang membuat kita kuat,\" ujar Erick saat meresmikan perubahan logo dan slogan Kementerian BUMN di halaman kantor Kementerian BUMN di Jalan Medan Merdeka Selatan, Jakarta, Rabu (1/7).Erick menjadikan akhlak sebagai panduan bagi manajemen BUMN untuk dapat bekerja dengan benar demi kepentingan bangsa, bukan kepentingan pribadi atau kelompok. Erick memerinci akronim akhlak terdiri atas amanah, kompeten, harmonis, loyal, adaptif, dan kolaboratif.Erick menilai faktor akhlak sangat vital bagi BUMN untuk maju. Ia mencontohkan poin penting loyal yang harus menjadi acuan bagi manajemen BUMN bekerja untuk kepentingan bangsa dan tidak menyalahgunakan kewenangan untuk kepentingan pribadi atau kelompok.\"Ada 53 kasus hukum di BUMN yang kita nggak mau terulang lagi, ini kenapa akhlak penting,\" ungkap Erick. Kata akhlak memang lekat dengan Erick sejak awal menjabat sebagai Menteri BUMN. Dalam setiap kesempatan, mantan pemilik Inter Milan itu selalu menaruh pesan pentingnya akhlak bagi manajemen BUMN.\"InsyaAllah saya yakini dengan kerja keras kita semua dan akhlak sebagai core value, bismillah lillahi taala, Allah SWT akan memudahkan,\" kata Erick. '"
      ]
     },
     "execution_count": 6,
     "metadata": {},
     "output_type": "execute_result"
    }
   ],
   "source": [
    "text_ready"
   ]
  },
  {
   "cell_type": "markdown",
   "metadata": {
    "colab_type": "text",
    "id": "Alalk64kznHB"
   },
   "source": [
    "# Labelling"
   ]
  },
  {
   "cell_type": "code",
   "execution_count": 7,
   "metadata": {
    "colab": {
     "base_uri": "https://localhost:8080/",
     "height": 34
    },
    "colab_type": "code",
    "executionInfo": {
     "elapsed": 749,
     "status": "ok",
     "timestamp": 1599576129762,
     "user": {
      "displayName": "Reza Dwi Utomo",
      "photoUrl": "https://lh3.googleusercontent.com/a-/AOh14GjuLhy_JmgD4iWFIjOE-G6ClGlqtizVTS9lhAZQ=s64",
      "userId": "08330585941225764736"
     },
     "user_tz": -420
    },
    "id": "Da9vGVnYx3iB",
    "outputId": "380a7f70-c900-4716-d474-de03b7de023a"
   },
   "outputs": [
    {
     "data": {
      "text/plain": [
       "['hari', 'lokasi', 'nama', 'organisasi', 'tanggal']"
      ]
     },
     "execution_count": 7,
     "metadata": {},
     "output_type": "execute_result"
    }
   ],
   "source": [
    "annotations = sorted(['nama',\n",
    "               'tanggal',\n",
    "               'hari',\n",
    "               'lokasi',\n",
    "               'organisasi',\n",
    "               ])\n",
    "annotations"
   ]
  },
  {
   "cell_type": "code",
   "execution_count": 29,
   "metadata": {
    "colab": {
     "base_uri": "https://localhost:8080/",
     "height": 34
    },
    "colab_type": "code",
    "executionInfo": {
     "elapsed": 1116,
     "status": "ok",
     "timestamp": 1599573268619,
     "user": {
      "displayName": "Reza Dwi Utomo",
      "photoUrl": "https://lh3.googleusercontent.com/a-/AOh14GjuLhy_JmgD4iWFIjOE-G6ClGlqtizVTS9lhAZQ=s64",
      "userId": "08330585941225764736"
     },
     "user_tz": -420
    },
    "id": "Gudoc-eAf5PY",
    "outputId": "72496bd1-41b0-48a0-937d-4d27bc528c39"
   },
   "outputs": [
    {
     "name": "stdout",
     "output_type": "stream",
     "text": [
      "Drive already mounted at /content/drive/; to attempt to forcibly remount, call drive.mount(\"/content/drive/\", force_remount=True).\n"
     ]
    }
   ],
   "source": [
    "from google.colab import drive\n",
    "drive.mount('/content/drive/')"
   ]
  },
  {
   "cell_type": "code",
   "execution_count": 30,
   "metadata": {
    "colab": {},
    "colab_type": "code",
    "executionInfo": {
     "elapsed": 2282,
     "status": "ok",
     "timestamp": 1599573290904,
     "user": {
      "displayName": "Reza Dwi Utomo",
      "photoUrl": "https://lh3.googleusercontent.com/a-/AOh14GjuLhy_JmgD4iWFIjOE-G6ClGlqtizVTS9lhAZQ=s64",
      "userId": "08330585941225764736"
     },
     "user_tz": -420
    },
    "id": "_1d6oh9v4a-M"
   },
   "outputs": [],
   "source": [
    "# copy necessary file to Google Colab\n",
    "!cp \"/content/drive/My Drive/Colab Notebooks/coba/BIOtagging.py\" ."
   ]
  },
  {
   "cell_type": "code",
   "execution_count": 31,
   "metadata": {
    "colab": {
     "base_uri": "https://localhost:8080/",
     "height": 122
    },
    "colab_type": "code",
    "executionInfo": {
     "elapsed": 4836,
     "status": "ok",
     "timestamp": 1599573298948,
     "user": {
      "displayName": "Reza Dwi Utomo",
      "photoUrl": "https://lh3.googleusercontent.com/a-/AOh14GjuLhy_JmgD4iWFIjOE-G6ClGlqtizVTS9lhAZQ=s64",
      "userId": "08330585941225764736"
     },
     "user_tz": -420
    },
    "id": "PRJFI9wI5B8J",
    "outputId": "4388d493-10b1-4091-8f8c-9a78635e1a99"
   },
   "outputs": [
    {
     "name": "stdout",
     "output_type": "stream",
     "text": [
      "Collecting sastrawi\n",
      "\u001b[?25l  Downloading https://files.pythonhosted.org/packages/6f/4b/bab676953da3103003730b8fcdfadbdd20f333d4add10af949dd5c51e6ed/Sastrawi-1.0.1-py2.py3-none-any.whl (209kB)\n",
      "\r",
      "\u001b[K     |█▋                              | 10kB 16.9MB/s eta 0:00:01\r",
      "\u001b[K     |███▏                            | 20kB 1.5MB/s eta 0:00:01\r",
      "\u001b[K     |████▊                           | 30kB 1.8MB/s eta 0:00:01\r",
      "\u001b[K     |██████▎                         | 40kB 2.1MB/s eta 0:00:01\r",
      "\u001b[K     |███████▉                        | 51kB 2.0MB/s eta 0:00:01\r",
      "\u001b[K     |█████████▍                      | 61kB 2.2MB/s eta 0:00:01\r",
      "\u001b[K     |███████████                     | 71kB 2.4MB/s eta 0:00:01\r",
      "\u001b[K     |████████████▌                   | 81kB 2.6MB/s eta 0:00:01\r",
      "\u001b[K     |██████████████                  | 92kB 2.5MB/s eta 0:00:01\r",
      "\u001b[K     |███████████████▋                | 102kB 2.7MB/s eta 0:00:01\r",
      "\u001b[K     |█████████████████▏              | 112kB 2.7MB/s eta 0:00:01\r",
      "\u001b[K     |██████████████████▊             | 122kB 2.7MB/s eta 0:00:01\r",
      "\u001b[K     |████████████████████▎           | 133kB 2.7MB/s eta 0:00:01\r",
      "\u001b[K     |█████████████████████▉          | 143kB 2.7MB/s eta 0:00:01\r",
      "\u001b[K     |███████████████████████▍        | 153kB 2.7MB/s eta 0:00:01\r",
      "\u001b[K     |█████████████████████████       | 163kB 2.7MB/s eta 0:00:01\r",
      "\u001b[K     |██████████████████████████▋     | 174kB 2.7MB/s eta 0:00:01\r",
      "\u001b[K     |████████████████████████████▏   | 184kB 2.7MB/s eta 0:00:01\r",
      "\u001b[K     |█████████████████████████████▊  | 194kB 2.7MB/s eta 0:00:01\r",
      "\u001b[K     |███████████████████████████████▎| 204kB 2.7MB/s eta 0:00:01\r",
      "\u001b[K     |████████████████████████████████| 215kB 2.7MB/s \n",
      "\u001b[?25hInstalling collected packages: sastrawi\n",
      "Successfully installed sastrawi-1.0.1\n"
     ]
    }
   ],
   "source": [
    "# install Sastrawi\n",
    "!pip install sastrawi"
   ]
  },
  {
   "cell_type": "code",
   "execution_count": 9,
   "metadata": {
    "colab": {},
    "colab_type": "code",
    "executionInfo": {
     "elapsed": 1092,
     "status": "ok",
     "timestamp": 1599573306255,
     "user": {
      "displayName": "Reza Dwi Utomo",
      "photoUrl": "https://lh3.googleusercontent.com/a-/AOh14GjuLhy_JmgD4iWFIjOE-G6ClGlqtizVTS9lhAZQ=s64",
      "userId": "08330585941225764736"
     },
     "user_tz": -420
    },
    "id": "rtcnHzEpx4FN"
   },
   "outputs": [],
   "source": [
    "from BIOtagging import text_to_tagReadyDF, convert_to_spaCyformat"
   ]
  },
  {
   "cell_type": "code",
   "execution_count": 10,
   "metadata": {
    "colab": {
     "base_uri": "https://localhost:8080/",
     "height": 34
    },
    "colab_type": "code",
    "executionInfo": {
     "elapsed": 875,
     "status": "ok",
     "timestamp": 1599575864071,
     "user": {
      "displayName": "Reza Dwi Utomo",
      "photoUrl": "https://lh3.googleusercontent.com/a-/AOh14GjuLhy_JmgD4iWFIjOE-G6ClGlqtizVTS9lhAZQ=s64",
      "userId": "08330585941225764736"
     },
     "user_tz": -420
    },
    "id": "9Em9QeI7x4V4",
    "outputId": "7e541643-03be-4aa0-8b9f-0bc68430bf3e"
   },
   "outputs": [
    {
     "name": "stderr",
     "output_type": "stream",
     "text": [
      "1it [00:00,  3.42it/s]\n"
     ]
    }
   ],
   "source": [
    "tagready_df = text_to_tagReadyDF(pd.Series([text_ready]), isCSV=False)"
   ]
  },
  {
   "cell_type": "code",
   "execution_count": 11,
   "metadata": {
    "colab": {
     "base_uri": "https://localhost:8080/",
     "height": 221
    },
    "colab_type": "code",
    "executionInfo": {
     "elapsed": 826,
     "status": "ok",
     "timestamp": 1599575866655,
     "user": {
      "displayName": "Reza Dwi Utomo",
      "photoUrl": "https://lh3.googleusercontent.com/a-/AOh14GjuLhy_JmgD4iWFIjOE-G6ClGlqtizVTS9lhAZQ=s64",
      "userId": "08330585941225764736"
     },
     "user_tz": -420
    },
    "id": "gE1v_VCdx3yM",
    "outputId": "476f9109-4947-4ccd-fbbf-5f5f15d54eee"
   },
   "outputs": [
    {
     "name": "stdout",
     "output_type": "stream",
     "text": [
      "(516, 2)\n"
     ]
    },
    {
     "data": {
      "text/html": [
       "<div>\n",
       "<style scoped>\n",
       "    .dataframe tbody tr th:only-of-type {\n",
       "        vertical-align: middle;\n",
       "    }\n",
       "\n",
       "    .dataframe tbody tr th {\n",
       "        vertical-align: top;\n",
       "    }\n",
       "\n",
       "    .dataframe thead th {\n",
       "        text-align: right;\n",
       "    }\n",
       "</style>\n",
       "<table border=\"1\" class=\"dataframe\">\n",
       "  <thead>\n",
       "    <tr style=\"text-align: right;\">\n",
       "      <th></th>\n",
       "      <th>token_0</th>\n",
       "      <th>BIO_tag_0</th>\n",
       "    </tr>\n",
       "  </thead>\n",
       "  <tbody>\n",
       "    <tr>\n",
       "      <th>0</th>\n",
       "      <td>Menteri</td>\n",
       "      <td></td>\n",
       "    </tr>\n",
       "    <tr>\n",
       "      <th>1</th>\n",
       "      <td></td>\n",
       "      <td>O</td>\n",
       "    </tr>\n",
       "    <tr>\n",
       "      <th>2</th>\n",
       "      <td>BUMN</td>\n",
       "      <td></td>\n",
       "    </tr>\n",
       "    <tr>\n",
       "      <th>3</th>\n",
       "      <td></td>\n",
       "      <td>O</td>\n",
       "    </tr>\n",
       "    <tr>\n",
       "      <th>4</th>\n",
       "      <td>Erick</td>\n",
       "      <td></td>\n",
       "    </tr>\n",
       "  </tbody>\n",
       "</table>\n",
       "</div>"
      ],
      "text/plain": [
       "   token_0 BIO_tag_0\n",
       "0  Menteri          \n",
       "1                  O\n",
       "2     BUMN          \n",
       "3                  O\n",
       "4    Erick          "
      ]
     },
     "execution_count": 11,
     "metadata": {},
     "output_type": "execute_result"
    }
   ],
   "source": [
    "print(tagready_df.shape)\n",
    "tagready_df.head()"
   ]
  },
  {
   "cell_type": "code",
   "execution_count": 39,
   "metadata": {
    "colab": {},
    "colab_type": "code",
    "executionInfo": {
     "elapsed": 1208,
     "status": "ok",
     "timestamp": 1599574162367,
     "user": {
      "displayName": "Reza Dwi Utomo",
      "photoUrl": "https://lh3.googleusercontent.com/a-/AOh14GjuLhy_JmgD4iWFIjOE-G6ClGlqtizVTS9lhAZQ=s64",
      "userId": "08330585941225764736"
     },
     "user_tz": -420
    },
    "id": "eT93dp7Xx3DH"
   },
   "outputs": [],
   "source": [
    "link_for_save = \"/content/drive/My Drive/Colab Notebooks/coba/text_tagged.csv\"\n",
    "tagready_df.to_csv(link_for_save, index=False)"
   ]
  },
  {
   "cell_type": "code",
   "execution_count": 13,
   "metadata": {
    "colab": {},
    "colab_type": "code",
    "executionInfo": {
     "elapsed": 1625,
     "status": "ok",
     "timestamp": 1599576045692,
     "user": {
      "displayName": "Reza Dwi Utomo",
      "photoUrl": "https://lh3.googleusercontent.com/a-/AOh14GjuLhy_JmgD4iWFIjOE-G6ClGlqtizVTS9lhAZQ=s64",
      "userId": "08330585941225764736"
     },
     "user_tz": -420
    },
    "id": "14YmxEdEBtuN"
   },
   "outputs": [],
   "source": [
    "# import BIO-tagged csv file\n",
    "link_BIOtagged_file = \"/content/drive/My Drive/Colab Notebooks/coba/text_tagged_done.csv\"\n",
    "df_tagged = pd.read_csv(link_BIOtagged_file)"
   ]
  },
  {
   "cell_type": "code",
   "execution_count": 14,
   "metadata": {
    "colab": {
     "base_uri": "https://localhost:8080/",
     "height": 221
    },
    "colab_type": "code",
    "executionInfo": {
     "elapsed": 882,
     "status": "ok",
     "timestamp": 1599576048153,
     "user": {
      "displayName": "Reza Dwi Utomo",
      "photoUrl": "https://lh3.googleusercontent.com/a-/AOh14GjuLhy_JmgD4iWFIjOE-G6ClGlqtizVTS9lhAZQ=s64",
      "userId": "08330585941225764736"
     },
     "user_tz": -420
    },
    "id": "5U-fvrAxCE4e",
    "outputId": "d74879ef-96b9-44b8-9d79-8755171f47a8"
   },
   "outputs": [
    {
     "name": "stdout",
     "output_type": "stream",
     "text": [
      "(517, 2)\n"
     ]
    },
    {
     "data": {
      "text/html": [
       "<div>\n",
       "<style scoped>\n",
       "    .dataframe tbody tr th:only-of-type {\n",
       "        vertical-align: middle;\n",
       "    }\n",
       "\n",
       "    .dataframe tbody tr th {\n",
       "        vertical-align: top;\n",
       "    }\n",
       "\n",
       "    .dataframe thead th {\n",
       "        text-align: right;\n",
       "    }\n",
       "</style>\n",
       "<table border=\"1\" class=\"dataframe\">\n",
       "  <thead>\n",
       "    <tr style=\"text-align: right;\">\n",
       "      <th></th>\n",
       "      <th>token_0</th>\n",
       "      <th>BIO_tag_0</th>\n",
       "    </tr>\n",
       "  </thead>\n",
       "  <tbody>\n",
       "    <tr>\n",
       "      <th>0</th>\n",
       "      <td>Menteri</td>\n",
       "      <td>o</td>\n",
       "    </tr>\n",
       "    <tr>\n",
       "      <th>1</th>\n",
       "      <td></td>\n",
       "      <td>O</td>\n",
       "    </tr>\n",
       "    <tr>\n",
       "      <th>2</th>\n",
       "      <td>BUMN</td>\n",
       "      <td>b-organisasi</td>\n",
       "    </tr>\n",
       "    <tr>\n",
       "      <th>3</th>\n",
       "      <td></td>\n",
       "      <td>O</td>\n",
       "    </tr>\n",
       "    <tr>\n",
       "      <th>4</th>\n",
       "      <td>Erick</td>\n",
       "      <td>b-nama</td>\n",
       "    </tr>\n",
       "  </tbody>\n",
       "</table>\n",
       "</div>"
      ],
      "text/plain": [
       "   token_0     BIO_tag_0\n",
       "0  Menteri             o\n",
       "1                      O\n",
       "2     BUMN  b-organisasi\n",
       "3                      O\n",
       "4    Erick        b-nama"
      ]
     },
     "execution_count": 14,
     "metadata": {},
     "output_type": "execute_result"
    }
   ],
   "source": [
    "print(df_tagged.shape)\n",
    "df_tagged.head()"
   ]
  },
  {
   "cell_type": "code",
   "execution_count": 15,
   "metadata": {
    "colab": {},
    "colab_type": "code",
    "executionInfo": {
     "elapsed": 849,
     "status": "ok",
     "timestamp": 1599576138367,
     "user": {
      "displayName": "Reza Dwi Utomo",
      "photoUrl": "https://lh3.googleusercontent.com/a-/AOh14GjuLhy_JmgD4iWFIjOE-G6ClGlqtizVTS9lhAZQ=s64",
      "userId": "08330585941225764736"
     },
     "user_tz": -420
    },
    "id": "2AoncXF-x2eW"
   },
   "outputs": [],
   "source": [
    "train_data = convert_to_spaCyformat(df_tagged, annotations)"
   ]
  },
  {
   "cell_type": "code",
   "execution_count": 16,
   "metadata": {
    "colab": {
     "base_uri": "https://localhost:8080/",
     "height": 615
    },
    "colab_type": "code",
    "executionInfo": {
     "elapsed": 1019,
     "status": "ok",
     "timestamp": 1599576148371,
     "user": {
      "displayName": "Reza Dwi Utomo",
      "photoUrl": "https://lh3.googleusercontent.com/a-/AOh14GjuLhy_JmgD4iWFIjOE-G6ClGlqtizVTS9lhAZQ=s64",
      "userId": "08330585941225764736"
     },
     "user_tz": -420
    },
    "id": "vpSB_45SKvki",
    "outputId": "7349d76d-53d0-45b6-ef3b-d4ce6e25dfc4"
   },
   "outputs": [
    {
     "data": {
      "text/plain": [
       "[\"Menteri BUMN Erick Thohir meluncurkan logo baru Kementerian BUMN di halaman kantor Kementerian BUMN, Jakarta, Rabu (01-Jul). REPUBLIKA.CO.ID, JAKARTA -- Menteri Badan Usaha Milik Negara (BUMN) Erick Thohir secara resmi menetapkan akhlak sebagai core value dari BUMN pada Rabu (01-Jul). Penetapan akhlak sebagai core value BUMN bersamaan dengan acara perubahan logo dan slogan Kementerian BUMN.``Hari ini juga saya ingin menetapkan akhlak sebagai core value bukan lip service karena kalau kita bekerja ada core value, ini yang membuat kita kuat,'' ujar Erick saat meresmikan perubahan logo dan slogan Kementerian BUMN di halaman kantor Kementerian BUMN di Jalan Medan Merdeka Selatan, Jakarta, Rabu (01-Jul).Erick menjadikan akhlak sebagai panduan bagi manajemen BUMN untuk dapat bekerja dengan benar demi kepentingan bangsa, bukan kepentingan pribadi atau kelompok. Erick memerinci akronim akhlak terdiri atas amanah, kompeten, harmonis, loyal, adaptif, dan kolaboratif.Erick menilai faktor akhlak sangat vital bagi BUMN untuk maju. Ia mencontohkan poin penting loyal yang harus menjadi acuan bagi manajemen BUMN bekerja untuk kepentingan bangsa dan tidak menyalahgunakan kewenangan untuk kepentingan pribadi atau kelompok.``Ada 53 kasus hukum di BUMN yang kita nggak mau terulang lagi, ini kenapa akhlak penting,'' ungkap Erick. Kata akhlak memang lekat dengan Erick sejak awal menjabat sebagai Menteri BUMN. Dalam setiap kesempatan, mantan pemilik Inter Milan itu selalu menaruh pesan pentingnya akhlak bagi manajemen BUMN.``InsyaAllah saya yakini dengan kerja keras kita semua dan akhlak sebagai core value, bismillah lillahi taala, Allah SWT akan memudahkan,'' kata Erick.\",\n",
       " {'entities': [(8, 12, 'organisasi'),\n",
       "   (13, 25, 'nama'),\n",
       "   (48, 64, 'organisasi'),\n",
       "   (83, 99, 'organisasi'),\n",
       "   (101, 108, 'lokasi'),\n",
       "   (110, 114, 'hari'),\n",
       "   (116, 122, 'tanggal'),\n",
       "   (142, 149, 'lokasi'),\n",
       "   (161, 192, 'organisasi'),\n",
       "   (193, 205, 'nama'),\n",
       "   (261, 265, 'organisasi'),\n",
       "   (271, 275, 'hari'),\n",
       "   (277, 283, 'tanggal'),\n",
       "   (322, 326, 'organisasi'),\n",
       "   (376, 392, 'organisasi'),\n",
       "   (552, 557, 'nama'),\n",
       "   (600, 616, 'organisasi'),\n",
       "   (635, 651, 'organisasi'),\n",
       "   (655, 691, 'lokasi'),\n",
       "   (693, 697, 'hari'),\n",
       "   (699, 705, 'tanggal'),\n",
       "   (706, 712, 'nama'),\n",
       "   (762, 766, 'organisasi'),\n",
       "   (866, 871, 'nama'),\n",
       "   (970, 975, 'nama'),\n",
       "   (1016, 1020, 'organisasi'),\n",
       "   (1108, 1112, 'organisasi'),\n",
       "   (1323, 1328, 'nama'),\n",
       "   (1362, 1367, 'nama'),\n",
       "   (1404, 1408, 'organisasi'),\n",
       "   (1450, 1461, 'organisasi'),\n",
       "   (1520, 1524, 'organisasi'),\n",
       "   (1670, 1675, 'nama')]}]"
      ]
     },
     "execution_count": 16,
     "metadata": {},
     "output_type": "execute_result"
    }
   ],
   "source": [
    "train_data"
   ]
  },
  {
   "cell_type": "markdown",
   "metadata": {
    "colab_type": "text",
    "id": "TirVi5vXCZRF"
   },
   "source": [
    "# Training"
   ]
  },
  {
   "cell_type": "code",
   "execution_count": 60,
   "metadata": {
    "colab": {},
    "colab_type": "code",
    "executionInfo": {
     "elapsed": 1758,
     "status": "ok",
     "timestamp": 1599576353605,
     "user": {
      "displayName": "Reza Dwi Utomo",
      "photoUrl": "https://lh3.googleusercontent.com/a-/AOh14GjuLhy_JmgD4iWFIjOE-G6ClGlqtizVTS9lhAZQ=s64",
      "userId": "08330585941225764736"
     },
     "user_tz": -420
    },
    "id": "xgX6-TQXCaeH"
   },
   "outputs": [],
   "source": [
    "# copy necessary file to Google Colab\n",
    "!cp \"/content/drive/My Drive/Colab Notebooks/coba/train_spacy.py\" ."
   ]
  },
  {
   "cell_type": "code",
   "execution_count": 17,
   "metadata": {
    "colab": {},
    "colab_type": "code",
    "executionInfo": {
     "elapsed": 1616,
     "status": "ok",
     "timestamp": 1599576366899,
     "user": {
      "displayName": "Reza Dwi Utomo",
      "photoUrl": "https://lh3.googleusercontent.com/a-/AOh14GjuLhy_JmgD4iWFIjOE-G6ClGlqtizVTS9lhAZQ=s64",
      "userId": "08330585941225764736"
     },
     "user_tz": -420
    },
    "id": "i0WyNjrXLiOm"
   },
   "outputs": [],
   "source": [
    "# import the function to train using spaCy\n",
    "from train_spacy import train_spacy"
   ]
  },
  {
   "cell_type": "code",
   "execution_count": 18,
   "metadata": {
    "colab": {
     "base_uri": "https://localhost:8080/",
     "height": 1000
    },
    "colab_type": "code",
    "executionInfo": {
     "elapsed": 29702,
     "status": "ok",
     "timestamp": 1599576504468,
     "user": {
      "displayName": "Reza Dwi Utomo",
      "photoUrl": "https://lh3.googleusercontent.com/a-/AOh14GjuLhy_JmgD4iWFIjOE-G6ClGlqtizVTS9lhAZQ=s64",
      "userId": "08330585941225764736"
     },
     "user_tz": -420
    },
    "id": "zbQVGfzvLlgc",
    "outputId": "e87c180f-ba8c-4b38-855f-2fe43810d9b8",
    "scrolled": true
   },
   "outputs": [
    {
     "name": "stderr",
     "output_type": "stream",
     "text": [
      "C:\\Users\\utomo\\Anaconda3\\lib\\site-packages\\spacy\\language.py:636: UserWarning: [W033] Training a new parser or NER using a model with no lexeme normalization table. This may degrade the performance of the model to some degree. If this is intentional or the language you're using doesn't have a normalization table, please ignore this warning. If this is surprising, make sure you have the spacy-lookups-data package installed. The languages with lexeme normalization tables are currently: da, de, el, en, id, lb, pt, ru, sr, ta, th.\n",
      "  **kwargs\n"
     ]
    },
    {
     "name": "stdout",
     "output_type": "stream",
     "text": [
      "Starting iteration 0\n"
     ]
    },
    {
     "name": "stderr",
     "output_type": "stream",
     "text": [
      "C:\\Users\\utomo\\Anaconda3\\lib\\site-packages\\spacy\\language.py:479: UserWarning: [W030] Some entities could not be aligned in the text \"Menteri BUMN Erick Thohir meluncurkan logo baru Ke...\" with entities \"[(8, 12, 'organisasi'), (13, 25, 'nama'), (48, 64,...\". Use `spacy.gold.biluo_tags_from_offsets(nlp.make_doc(text), entities)` to check the alignment. Misaligned entities ('-') will be ignored during training.\n",
      "  gold = GoldParse(doc, **gold)\n"
     ]
    },
    {
     "name": "stdout",
     "output_type": "stream",
     "text": [
      "{'ner': 258.8182144165039}\n",
      "Starting iteration 1\n",
      "{'ner': 263.6363732814789}\n",
      "Starting iteration 2\n",
      "{'ner': 251.2878212928772}\n",
      "Starting iteration 3\n",
      "{'ner': 214.79675769805908}\n",
      "Starting iteration 4\n",
      "{'ner': 209.55216312408447}\n",
      "Starting iteration 5\n",
      "{'ner': 114.93549966812134}\n",
      "Starting iteration 6\n",
      "{'ner': 57.52925309538841}\n",
      "Starting iteration 7\n",
      "{'ner': 55.86786432773806}\n",
      "Starting iteration 8\n",
      "{'ner': 55.532467883778736}\n",
      "Starting iteration 9\n",
      "{'ner': 54.29129766947517}\n",
      "Starting iteration 10\n",
      "{'ner': 51.2807025931761}\n",
      "Starting iteration 11\n",
      "{'ner': 47.36642485461198}\n",
      "Starting iteration 12\n",
      "{'ner': 41.628993682563305}\n",
      "Starting iteration 13\n",
      "{'ner': 37.899421598762274}\n",
      "Starting iteration 14\n",
      "{'ner': 35.9323433637619}\n",
      "Starting iteration 15\n",
      "{'ner': 92.42365425825119}\n",
      "Starting iteration 16\n",
      "{'ner': 30.97612692276016}\n",
      "Starting iteration 17\n",
      "{'ner': 28.784900473896414}\n",
      "Starting iteration 18\n",
      "{'ner': 63.96370208263397}\n",
      "Starting iteration 19\n",
      "{'ner': 26.902272584487946}\n",
      "Starting iteration 20\n",
      "{'ner': 25.72676555668295}\n",
      "Starting iteration 21\n",
      "{'ner': 38.25013517174375}\n",
      "Starting iteration 22\n",
      "{'ner': 76.37891880821553}\n",
      "Starting iteration 23\n",
      "{'ner': 145.4525664535322}\n",
      "Starting iteration 24\n",
      "{'ner': 122.49815083784051}\n",
      "Starting iteration 25\n",
      "{'ner': 123.23116705787834}\n",
      "Starting iteration 26\n",
      "{'ner': 56.262810008600354}\n",
      "Starting iteration 27\n",
      "{'ner': 107.00428760051727}\n",
      "Starting iteration 28\n",
      "{'ner': 96.19527610158548}\n",
      "Starting iteration 29\n",
      "{'ner': 74.40681054256856}\n",
      "Starting iteration 30\n",
      "{'ner': 72.65622420981526}\n",
      "Starting iteration 31\n",
      "{'ner': 73.12338554859161}\n",
      "Starting iteration 32\n",
      "{'ner': 45.74291383405216}\n",
      "Starting iteration 33\n",
      "{'ner': 45.74715441837907}\n",
      "Starting iteration 34\n",
      "{'ner': 37.79067357862368}\n",
      "Starting iteration 35\n",
      "{'ner': 26.90409913379699}\n",
      "Starting iteration 36\n",
      "{'ner': 28.902135766111314}\n",
      "Starting iteration 37\n",
      "{'ner': 95.43004550412297}\n",
      "Starting iteration 38\n",
      "{'ner': 20.412136081653443}\n",
      "Starting iteration 39\n",
      "{'ner': 19.12807084236465}\n",
      "Starting iteration 40\n",
      "{'ner': 18.050267061800696}\n",
      "Starting iteration 41\n",
      "{'ner': 16.941740294510964}\n",
      "Starting iteration 42\n",
      "{'ner': 14.88420079428488}\n",
      "Starting iteration 43\n",
      "{'ner': 15.812762317829765}\n",
      "Starting iteration 44\n",
      "{'ner': 18.369301136633112}\n",
      "Starting iteration 45\n",
      "{'ner': 15.587891676463187}\n",
      "Starting iteration 46\n",
      "{'ner': 53.9336436008889}\n",
      "Starting iteration 47\n",
      "{'ner': 27.00412522238912}\n",
      "Starting iteration 48\n",
      "{'ner': 73.81269379146397}\n",
      "Starting iteration 49\n",
      "{'ner': 20.35176350735128}\n",
      "Starting iteration 50\n",
      "{'ner': 20.437914016245372}\n",
      "Starting iteration 51\n",
      "{'ner': 43.01590080079768}\n",
      "Starting iteration 52\n",
      "{'ner': 34.34036761522293}\n",
      "Starting iteration 53\n",
      "{'ner': 21.541981388319982}\n",
      "Starting iteration 54\n",
      "{'ner': 19.591785479235114}\n",
      "Starting iteration 55\n",
      "{'ner': 14.300271998159587}\n",
      "Starting iteration 56\n",
      "{'ner': 10.436846647091443}\n",
      "Starting iteration 57\n",
      "{'ner': 9.700462092778253}\n",
      "Starting iteration 58\n",
      "{'ner': 16.103559431393478}\n",
      "Starting iteration 59\n",
      "{'ner': 33.54817992671633}\n",
      "Starting iteration 60\n",
      "{'ner': 32.36459269304896}\n",
      "Starting iteration 61\n",
      "{'ner': 30.024605218899524}\n",
      "Starting iteration 62\n",
      "{'ner': 26.13139245172715}\n",
      "Starting iteration 63\n",
      "{'ner': 10.438805614376179}\n",
      "Starting iteration 64\n",
      "{'ner': 8.380771956994977}\n",
      "Starting iteration 65\n",
      "{'ner': 13.871392071847367}\n",
      "Starting iteration 66\n",
      "{'ner': 11.770997389685363}\n",
      "Starting iteration 67\n",
      "{'ner': 8.114869296579855}\n",
      "Starting iteration 68\n",
      "{'ner': 4.299286332214251}\n",
      "Starting iteration 69\n",
      "{'ner': 2.8810183321131717}\n",
      "Starting iteration 70\n",
      "{'ner': 4.469545865828877}\n",
      "Starting iteration 71\n",
      "{'ner': 3.8721042740300504}\n",
      "Starting iteration 72\n",
      "{'ner': 3.324687738250268}\n",
      "Starting iteration 73\n",
      "{'ner': 1.0156175111668588}\n",
      "Starting iteration 74\n",
      "{'ner': 0.4056793848250173}\n",
      "Starting iteration 75\n",
      "{'ner': 1.971231513945334}\n",
      "Starting iteration 76\n",
      "{'ner': 1.9254658175345263}\n",
      "Starting iteration 77\n",
      "{'ner': 1.6237502640399883}\n",
      "Starting iteration 78\n",
      "{'ner': 0.15009647950566002}\n",
      "Starting iteration 79\n",
      "{'ner': 0.014456205133563604}\n",
      "Starting iteration 80\n",
      "{'ner': 0.03124268838222776}\n",
      "Starting iteration 81\n",
      "{'ner': 0.02504515401568128}\n",
      "Starting iteration 82\n",
      "{'ner': 0.005861846089469103}\n",
      "Starting iteration 83\n",
      "{'ner': 0.0009219267086461795}\n",
      "Starting iteration 84\n",
      "{'ner': 0.00020657651974608383}\n",
      "Starting iteration 85\n",
      "{'ner': 7.499089679508398e-05}\n",
      "Starting iteration 86\n",
      "{'ner': 3.5835432778316044e-05}\n",
      "Starting iteration 87\n",
      "{'ner': 2.5569397572970665e-05}\n",
      "Starting iteration 88\n",
      "{'ner': 1.0153601329365434e-05}\n",
      "Starting iteration 89\n",
      "{'ner': 0.007094617142974451}\n",
      "Starting iteration 90\n",
      "{'ner': 3.867704092812335e-06}\n",
      "Starting iteration 91\n",
      "{'ner': 2.8748071826719123e-06}\n",
      "Starting iteration 92\n",
      "{'ner': 2.4284211572356563e-06}\n",
      "Starting iteration 93\n",
      "{'ner': 2.370324599980378e-06}\n",
      "Starting iteration 94\n",
      "{'ner': 2.5925590678943434e-06}\n",
      "Starting iteration 95\n",
      "{'ner': 2.753083813367141e-06}\n",
      "Starting iteration 96\n",
      "{'ner': 2.7191485363342593e-06}\n",
      "Starting iteration 97\n",
      "{'ner': 2.3594127587876578e-06}\n",
      "Starting iteration 98\n",
      "{'ner': 1.796653253782576e-06}\n",
      "Starting iteration 99\n",
      "{'ner': 1.2219293010764468e-06}\n"
     ]
    }
   ],
   "source": [
    "# training model\n",
    "model, loss = train_spacy([train_data], 100)"
   ]
  },
  {
   "cell_type": "code",
   "execution_count": 19,
   "metadata": {
    "colab": {},
    "colab_type": "code",
    "executionInfo": {
     "elapsed": 845,
     "status": "ok",
     "timestamp": 1599576584358,
     "user": {
      "displayName": "Reza Dwi Utomo",
      "photoUrl": "https://lh3.googleusercontent.com/a-/AOh14GjuLhy_JmgD4iWFIjOE-G6ClGlqtizVTS9lhAZQ=s64",
      "userId": "08330585941225764736"
     },
     "user_tz": -420
    },
    "id": "JHGa7yOwMXTG"
   },
   "outputs": [],
   "source": [
    "from matplotlib import pyplot as plt"
   ]
  },
  {
   "cell_type": "code",
   "execution_count": 20,
   "metadata": {
    "colab": {
     "base_uri": "https://localhost:8080/",
     "height": 513
    },
    "colab_type": "code",
    "executionInfo": {
     "elapsed": 1093,
     "status": "ok",
     "timestamp": 1599576586791,
     "user": {
      "displayName": "Reza Dwi Utomo",
      "photoUrl": "https://lh3.googleusercontent.com/a-/AOh14GjuLhy_JmgD4iWFIjOE-G6ClGlqtizVTS9lhAZQ=s64",
      "userId": "08330585941225764736"
     },
     "user_tz": -420
    },
    "id": "587JQqncLuys",
    "outputId": "88abd6fe-d847-4568-f115-7739d5e4b447"
   },
   "outputs": [
    {
     "data": {
      "image/png": "[encoded data removed]",
      "text/plain": [
       "<Figure size 864x576 with 1 Axes>"
      ]
     },
     "metadata": {
      "needs_background": "light"
     },
     "output_type": "display_data"
    }
   ],
   "source": [
    "plt.figure(figsize=(12,8))\n",
    "plt.plot([i['ner'] for i in loss])\n",
    "plt.grid()\n",
    "plt.title('Loss Function')\n",
    "plt.xlabel('Epoch')\n",
    "plt.ylabel('Loss')\n",
    "plt.show()"
   ]
  },
  {
   "cell_type": "code",
   "execution_count": 21,
   "metadata": {
    "colab": {
     "base_uri": "https://localhost:8080/",
     "height": 34
    },
    "colab_type": "code",
    "executionInfo": {
     "elapsed": 8516,
     "status": "ok",
     "timestamp": 1599576735057,
     "user": {
      "displayName": "Reza Dwi Utomo",
      "photoUrl": "https://lh3.googleusercontent.com/a-/AOh14GjuLhy_JmgD4iWFIjOE-G6ClGlqtizVTS9lhAZQ=s64",
      "userId": "08330585941225764736"
     },
     "user_tz": -420
    },
    "id": "imq52WlkMdkm",
    "outputId": "1eae6b3a-e8b5-41dc-88ba-73650c033926"
   },
   "outputs": [
    {
     "name": "stdout",
     "output_type": "stream",
     "text": [
      "Enter your Model Name: model_NER\n"
     ]
    }
   ],
   "source": [
    "# Save our trained model\n",
    "link_save_model = \"/content/drive/My Drive/Colab Notebooks/coba/\"\n",
    "modelfile = input(\"Enter your Model Name: \")\n",
    "model.to_disk(link_save_model + modelfile)"
   ]
  },
  {
   "cell_type": "markdown",
   "metadata": {
    "colab_type": "text",
    "id": "BbIWm9aLNBvh"
   },
   "source": [
    "# Evaluation"
   ]
  },
  {
   "cell_type": "code",
   "execution_count": 22,
   "metadata": {
    "colab": {},
    "colab_type": "code",
    "executionInfo": {
     "elapsed": 610,
     "status": "ok",
     "timestamp": 1599577146728,
     "user": {
      "displayName": "Reza Dwi Utomo",
      "photoUrl": "https://lh3.googleusercontent.com/a-/AOh14GjuLhy_JmgD4iWFIjOE-G6ClGlqtizVTS9lhAZQ=s64",
      "userId": "08330585941225764736"
     },
     "user_tz": -420
    },
    "id": "Y3Aj63uPNV4v"
   },
   "outputs": [],
   "source": [
    "# import package for displaying NER results\n",
    "from spacy import load, displacy"
   ]
  },
  {
   "cell_type": "code",
   "execution_count": 23,
   "metadata": {
    "colab": {},
    "colab_type": "code",
    "executionInfo": {
     "elapsed": 37632,
     "status": "ok",
     "timestamp": 1599576869607,
     "user": {
      "displayName": "Reza Dwi Utomo",
      "photoUrl": "https://lh3.googleusercontent.com/a-/AOh14GjuLhy_JmgD4iWFIjOE-G6ClGlqtizVTS9lhAZQ=s64",
      "userId": "08330585941225764736"
     },
     "user_tz": -420
    },
    "id": "oUGkaSshNDVe"
   },
   "outputs": [],
   "source": [
    "# import model\n",
    "link_to_model = \"/content/drive/My Drive/Colab Notebooks/coba/model_NER\"\n",
    "loaded_model = load(link_to_model)"
   ]
  },
  {
   "cell_type": "code",
   "execution_count": 24,
   "metadata": {
    "colab": {},
    "colab_type": "code",
    "executionInfo": {
     "elapsed": 877,
     "status": "ok",
     "timestamp": 1599577068138,
     "user": {
      "displayName": "Reza Dwi Utomo",
      "photoUrl": "https://lh3.googleusercontent.com/a-/AOh14GjuLhy_JmgD4iWFIjOE-G6ClGlqtizVTS9lhAZQ=s64",
      "userId": "08330585941225764736"
     },
     "user_tz": -420
    },
    "id": "tpPMuVumODdq"
   },
   "outputs": [],
   "source": [
    "# text source: 'https://www.antaranews.com/berita/1584798/erick-tetapkan-akhlak-sebagai-core-value-bumn'\n",
    "test_text = \"\"\"Jakarta (ANTARA) - Menteri Badan Usaha Milik Negara (BUMN) Erick Thohir menetapkan Amanah, Kompeten, Harmonis, Loyal, Adaptif, dan Kolaboratif ( AKHLAK)  sebagai \"core value\" di lingkungan kementerian. \"Hari ini, juga saya ingin menetapkan AKHLAK sebagai 'core value', bukan 'lips service', karena kalau kita bekerja ada 'core value' ini yang membuat kita kuat,\" ujar Menteri Erick di sela sambutan peluncuran logo baru Kementerian BUMN di Kantor Kementerian BUMN, Jakarta, Rabu. Ia mengatakan AKHLAK menjadi nilai-nilai organisasi Kementerian BUMN untuk maju.\"\"\""
   ]
  },
  {
   "cell_type": "code",
   "execution_count": 25,
   "metadata": {
    "colab": {
     "base_uri": "https://localhost:8080/",
     "height": 681
    },
    "colab_type": "code",
    "executionInfo": {
     "elapsed": 844,
     "status": "ok",
     "timestamp": 1599577149327,
     "user": {
      "displayName": "Reza Dwi Utomo",
      "photoUrl": "https://lh3.googleusercontent.com/a-/AOh14GjuLhy_JmgD4iWFIjOE-G6ClGlqtizVTS9lhAZQ=s64",
      "userId": "08330585941225764736"
     },
     "user_tz": -420
    },
    "id": "DZTglvWYORu-",
    "outputId": "e99903b0-d308-4ee5-aff9-afbe7f7cfd9d",
    "scrolled": true
   },
   "outputs": [
    {
     "data": {
      "text/html": [
       "<span class=\"tex2jax_ignore\"><div class=\"entities\" style=\"line-height: 2.5; direction: ltr\">\n",
       "<mark class=\"entity\" style=\"background: #ddd; padding: 0.45em 0.6em; margin: 0 0.25em; line-height: 1; border-radius: 0.35em;\">\n",
       "    Jakarta\n",
       "    <span style=\"font-size: 0.8em; font-weight: bold; line-height: 1; border-radius: 0.35em; text-transform: uppercase; vertical-align: middle; margin-left: 0.5rem\">hari</span>\n",
       "</mark>\n",
       " (\n",
       "<mark class=\"entity\" style=\"background: #ddd; padding: 0.45em 0.6em; margin: 0 0.25em; line-height: 1; border-radius: 0.35em;\">\n",
       "    ANTARA) -\n",
       "    <span style=\"font-size: 0.8em; font-weight: bold; line-height: 1; border-radius: 0.35em; text-transform: uppercase; vertical-align: middle; margin-left: 0.5rem\">tanggal</span>\n",
       "</mark>\n",
       " Menteri \n",
       "<mark class=\"entity\" style=\"background: #ddd; padding: 0.45em 0.6em; margin: 0 0.25em; line-height: 1; border-radius: 0.35em;\">\n",
       "    Badan Usaha Milik Negara (BUMN)\n",
       "    <span style=\"font-size: 0.8em; font-weight: bold; line-height: 1; border-radius: 0.35em; text-transform: uppercase; vertical-align: middle; margin-left: 0.5rem\">organisasi</span>\n",
       "</mark>\n",
       " \n",
       "<mark class=\"entity\" style=\"background: #ddd; padding: 0.45em 0.6em; margin: 0 0.25em; line-height: 1; border-radius: 0.35em;\">\n",
       "    Erick Thohir\n",
       "    <span style=\"font-size: 0.8em; font-weight: bold; line-height: 1; border-radius: 0.35em; text-transform: uppercase; vertical-align: middle; margin-left: 0.5rem\">nama</span>\n",
       "</mark>\n",
       " menetapkan Amanah, \n",
       "<mark class=\"entity\" style=\"background: #ddd; padding: 0.45em 0.6em; margin: 0 0.25em; line-height: 1; border-radius: 0.35em;\">\n",
       "    Kompeten\n",
       "    <span style=\"font-size: 0.8em; font-weight: bold; line-height: 1; border-radius: 0.35em; text-transform: uppercase; vertical-align: middle; margin-left: 0.5rem\">lokasi</span>\n",
       "</mark>\n",
       ", \n",
       "<mark class=\"entity\" style=\"background: #ddd; padding: 0.45em 0.6em; margin: 0 0.25em; line-height: 1; border-radius: 0.35em;\">\n",
       "    Harmonis\n",
       "    <span style=\"font-size: 0.8em; font-weight: bold; line-height: 1; border-radius: 0.35em; text-transform: uppercase; vertical-align: middle; margin-left: 0.5rem\">nama</span>\n",
       "</mark>\n",
       ", \n",
       "<mark class=\"entity\" style=\"background: #ddd; padding: 0.45em 0.6em; margin: 0 0.25em; line-height: 1; border-radius: 0.35em;\">\n",
       "    Loyal\n",
       "    <span style=\"font-size: 0.8em; font-weight: bold; line-height: 1; border-radius: 0.35em; text-transform: uppercase; vertical-align: middle; margin-left: 0.5rem\">nama</span>\n",
       "</mark>\n",
       ", Adaptif, dan \n",
       "<mark class=\"entity\" style=\"background: #ddd; padding: 0.45em 0.6em; margin: 0 0.25em; line-height: 1; border-radius: 0.35em;\">\n",
       "    Kolaboratif ( AKHLAK)\n",
       "    <span style=\"font-size: 0.8em; font-weight: bold; line-height: 1; border-radius: 0.35em; text-transform: uppercase; vertical-align: middle; margin-left: 0.5rem\">organisasi</span>\n",
       "</mark>\n",
       "  sebagai &quot;core value&quot; di lingkungan kementerian. &quot;\n",
       "<mark class=\"entity\" style=\"background: #ddd; padding: 0.45em 0.6em; margin: 0 0.25em; line-height: 1; border-radius: 0.35em;\">\n",
       "    Hari\n",
       "    <span style=\"font-size: 0.8em; font-weight: bold; line-height: 1; border-radius: 0.35em; text-transform: uppercase; vertical-align: middle; margin-left: 0.5rem\">nama</span>\n",
       "</mark>\n",
       " ini, juga saya ingin menetapkan AKHLAK sebagai 'core value', bukan 'lips service', karena kalau kita bekerja ada 'core value' ini yang membuat kita kuat,&quot; ujar Menteri \n",
       "<mark class=\"entity\" style=\"background: #ddd; padding: 0.45em 0.6em; margin: 0 0.25em; line-height: 1; border-radius: 0.35em;\">\n",
       "    Erick\n",
       "    <span style=\"font-size: 0.8em; font-weight: bold; line-height: 1; border-radius: 0.35em; text-transform: uppercase; vertical-align: middle; margin-left: 0.5rem\">nama</span>\n",
       "</mark>\n",
       " di sela sambutan peluncuran logo baru \n",
       "<mark class=\"entity\" style=\"background: #ddd; padding: 0.45em 0.6em; margin: 0 0.25em; line-height: 1; border-radius: 0.35em;\">\n",
       "    Kementerian BUMN\n",
       "    <span style=\"font-size: 0.8em; font-weight: bold; line-height: 1; border-radius: 0.35em; text-transform: uppercase; vertical-align: middle; margin-left: 0.5rem\">organisasi</span>\n",
       "</mark>\n",
       " di \n",
       "<mark class=\"entity\" style=\"background: #ddd; padding: 0.45em 0.6em; margin: 0 0.25em; line-height: 1; border-radius: 0.35em;\">\n",
       "    Kantor Kementerian BUMN, Jakarta\n",
       "    <span style=\"font-size: 0.8em; font-weight: bold; line-height: 1; border-radius: 0.35em; text-transform: uppercase; vertical-align: middle; margin-left: 0.5rem\">lokasi</span>\n",
       "</mark>\n",
       ", \n",
       "<mark class=\"entity\" style=\"background: #ddd; padding: 0.45em 0.6em; margin: 0 0.25em; line-height: 1; border-radius: 0.35em;\">\n",
       "    Rabu\n",
       "    <span style=\"font-size: 0.8em; font-weight: bold; line-height: 1; border-radius: 0.35em; text-transform: uppercase; vertical-align: middle; margin-left: 0.5rem\">hari</span>\n",
       "</mark>\n",
       ". Ia mengatakan AKHLAK menjadi nilai-nilai organisasi \n",
       "<mark class=\"entity\" style=\"background: #ddd; padding: 0.45em 0.6em; margin: 0 0.25em; line-height: 1; border-radius: 0.35em;\">\n",
       "    Kementerian BUMN\n",
       "    <span style=\"font-size: 0.8em; font-weight: bold; line-height: 1; border-radius: 0.35em; text-transform: uppercase; vertical-align: middle; margin-left: 0.5rem\">organisasi</span>\n",
       "</mark>\n",
       " untuk maju.</div></span>"
      ],
      "text/plain": [
       "<IPython.core.display.HTML object>"
      ]
     },
     "metadata": {},
     "output_type": "display_data"
    }
   ],
   "source": [
    "doc = loaded_model(test_text)\n",
    "displacy.render(doc, style=\"ent\")"
   ]
  },
  {
   "cell_type": "code",
   "execution_count": 88,
   "metadata": {
    "colab": {
     "base_uri": "https://localhost:8080/",
     "height": 86
    },
    "colab_type": "code",
    "executionInfo": {
     "elapsed": 889,
     "status": "ok",
     "timestamp": 1599577295707,
     "user": {
      "displayName": "Reza Dwi Utomo",
      "photoUrl": "https://lh3.googleusercontent.com/a-/AOh14GjuLhy_JmgD4iWFIjOE-G6ClGlqtizVTS9lhAZQ=s64",
      "userId": "08330585941225764736"
     },
     "user_tz": -420
    },
    "id": "y7dT4QcTOwjo",
    "outputId": "3aa8d7e1-a1ee-4320-fa4a-bcbc9f635a21",
    "scrolled": true
   },
   "outputs": [
    {
     "data": {
      "application/vnd.google.colaboratory.intrinsic+json": {
       "type": "string"
      },
      "text/plain": [
       "'Jakarta (ANTARA) - Menteri Badan Usaha Milik Negara (BUMN) Erick Thohir menetapkan Amanah, Kompeten, Harmonis, Loyal, Adaptif, dan Kolaboratif ( AKHLAK)  sebagai \"core value\" di lingkungan kementerian. \"Hari ini, juga saya ingin menetapkan AKHLAK sebagai \\'core value\\', bukan \\'lips service\\', karena kalau kita bekerja ada \\'core value\\' ini yang membuat kita kuat,\" ujar Menteri Erick di sela sambutan peluncuran logo baru Kementerian BUMN di Kantor Kementerian BUMN, Jakarta, Rabu. Ia mengatakan AKHLAK menjadi nilai-nilai organisasi Kementerian BUMN untuk maju.'"
      ]
     },
     "execution_count": 88,
     "metadata": {
      "tags": []
     },
     "output_type": "execute_result"
    }
   ],
   "source": [
    "test_text"
   ]
  },
  {
   "cell_type": "code",
   "execution_count": 89,
   "metadata": {
    "colab": {
     "base_uri": "https://localhost:8080/",
     "height": 306
    },
    "colab_type": "code",
    "executionInfo": {
     "elapsed": 873,
     "status": "ok",
     "timestamp": 1599577301189,
     "user": {
      "displayName": "Reza Dwi Utomo",
      "photoUrl": "https://lh3.googleusercontent.com/a-/AOh14GjuLhy_JmgD4iWFIjOE-G6ClGlqtizVTS9lhAZQ=s64",
      "userId": "08330585941225764736"
     },
     "user_tz": -420
    },
    "id": "krXAHIg0PJM3",
    "outputId": "befa1d5c-4749-4099-94d9-ebfdfe9ec75f",
    "scrolled": true
   },
   "outputs": [
    {
     "name": "stdout",
     "output_type": "stream",
     "text": [
      "Jakarta 0 7 hari\n",
      ") 15 16 organisasi\n",
      "Badan Usaha Milik Negara (BUMN) 27 58 organisasi\n",
      "Erick Thohir 59 71 nama\n",
      "Kompeten 91 99 organisasi\n",
      "Harmonis 101 109 lokasi\n",
      "Loyal 111 116 hari\n",
      "Adaptif 118 125 lokasi\n",
      "Kolaboratif 131 142 nama\n",
      "\" 173 174 organisasi\n",
      "\" 361 362 nama\n",
      "Erick 376 381 nama\n",
      "Kementerian BUMN 420 436 organisasi\n",
      "Kantor Kementerian BUMN, Jakarta 440 472 lokasi\n",
      "Rabu 474 478 hari\n",
      "AKHLAK 494 500 organisasi\n",
      "Kementerian BUMN 532 548 organisasi\n"
     ]
    }
   ],
   "source": [
    "for ent in doc.ents:\n",
    "    print(ent.text, ent.start_char, ent.end_char, ent.label_)"
   ]
  }
 ],
 "metadata": {
  "colab": {
   "authorship_tag": "ABX9TyOkFOWD8dzUWkrotpNZrxPS",
   "collapsed_sections": [],
   "mount_file_id": "148zgdDZwqngYnhROuxwfpvRK_13L-q_0",
   "name": "Untitled1.ipynb",
   "provenance": []
  },
  "kernelspec": {
   "display_name": "Python 3",
   "language": "python",
   "name": "python3"
  },
  "language_info": {
   "codemirror_mode": {
    "name": "ipython",
    "version": 3
   },
   "file_extension": ".py",
   "mimetype": "text/x-python",
   "name": "python",
   "nbconvert_exporter": "python",
   "pygments_lexer": "ipython3",
   "version": "3.7.6"
  }
 },
 "nbformat": 4,
 "nbformat_minor": 1
}
