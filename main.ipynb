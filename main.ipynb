{
 "cells": [
  {
   "cell_type": "markdown",
   "metadata": {
    "colab_type": "text",
    "id": "7VfCAE4LzOaP"
   },
   "source": [
    "# Data Preparation"
   ]
  },
  {
   "cell_type": "code",
   "execution_count": 1,
   "metadata": {
    "colab": {},
    "colab_type": "code",
    "executionInfo": {
     "elapsed": 2694,
     "status": "ok",
     "timestamp": 1599572019227,
     "user": {
      "displayName": "Reza Dwi Utomo",
      "photoUrl": "https://lh3.googleusercontent.com/a-/AOh14GjuLhy_JmgD4iWFIjOE-G6ClGlqtizVTS9lhAZQ=s64",
      "userId": "08330585941225764736"
     },
     "user_tz": -420
    },
    "id": "cUUu_lkTzxD3"
   },
   "outputs": [],
   "source": [
    "# import necessary libraries to get the data\n",
    "import requests\n",
    "import html5lib\n",
    "from bs4 import BeautifulSoup as bs\n",
    "from nltk.tokenize import sent_tokenize\n",
    "import pandas as pd"
   ]
  },
  {
   "cell_type": "code",
   "execution_count": 2,
   "metadata": {
    "colab": {
     "base_uri": "https://localhost:8080/",
     "height": 68
    },
    "colab_type": "code",
    "executionInfo": {
     "elapsed": 2406,
     "status": "ok",
     "timestamp": 1599572026053,
     "user": {
      "displayName": "Reza Dwi Utomo",
      "photoUrl": "https://lh3.googleusercontent.com/a-/AOh14GjuLhy_JmgD4iWFIjOE-G6ClGlqtizVTS9lhAZQ=s64",
      "userId": "08330585941225764736"
     },
     "user_tz": -420
    },
    "id": "sMDUk-FAw3n2",
    "outputId": "3fe3abfd-8ffc-4a12-e5d5-d47eabd0c42b"
   },
   "outputs": [
    {
     "name": "stdout",
     "output_type": "stream",
     "text": [
      "[nltk_data] Downloading package punkt to /root/nltk_data...\n",
      "[nltk_data]   Unzipping tokenizers/punkt.zip.\n"
     ]
    },
    {
     "data": {
      "text/plain": [
       "True"
      ]
     },
     "execution_count": 2,
     "metadata": {
      "tags": []
     },
     "output_type": "execute_result"
    }
   ],
   "source": [
    "# in case we need to download NLTK punctuations\n",
    "import nltk\n",
    "nltk.download('punkt')"
   ]
  },
  {
   "cell_type": "code",
   "execution_count": 3,
   "metadata": {
    "colab": {},
    "colab_type": "code",
    "executionInfo": {
     "elapsed": 2472,
     "status": "ok",
     "timestamp": 1599572030713,
     "user": {
      "displayName": "Reza Dwi Utomo",
      "photoUrl": "https://lh3.googleusercontent.com/a-/AOh14GjuLhy_JmgD4iWFIjOE-G6ClGlqtizVTS9lhAZQ=s64",
      "userId": "08330585941225764736"
     },
     "user_tz": -420
    },
    "id": "sttLZW_h0DWc"
   },
   "outputs": [],
   "source": [
    "link = 'https://republika.co.id/berita/qcsbt4383/akhlak-sebagai-emcore-valueem-bumn-erick-thohir-bismillah' #'https://ekonomi-islam.com/tag/teori-teori-ekonomi-islam/'\n",
    "req = requests.get(link)\n",
    "soup = bs(req.content, 'html5lib')"
   ]
  },
  {
   "cell_type": "code",
   "execution_count": 4,
   "metadata": {
    "colab": {},
    "colab_type": "code",
    "executionInfo": {
     "elapsed": 887,
     "status": "ok",
     "timestamp": 1599572097960,
     "user": {
      "displayName": "Reza Dwi Utomo",
      "photoUrl": "https://lh3.googleusercontent.com/a-/AOh14GjuLhy_JmgD4iWFIjOE-G6ClGlqtizVTS9lhAZQ=s64",
      "userId": "08330585941225764736"
     },
     "user_tz": -420
    },
    "id": "6Y3qzLBZ7P0J"
   },
   "outputs": [],
   "source": [
    "paragraphs = soup.findAll('p')"
   ]
  },
  {
   "cell_type": "code",
   "execution_count": 8,
   "metadata": {
    "colab": {},
    "colab_type": "code",
    "executionInfo": {
     "elapsed": 828,
     "status": "ok",
     "timestamp": 1599572162195,
     "user": {
      "displayName": "Reza Dwi Utomo",
      "photoUrl": "https://lh3.googleusercontent.com/a-/AOh14GjuLhy_JmgD4iWFIjOE-G6ClGlqtizVTS9lhAZQ=s64",
      "userId": "08330585941225764736"
     },
     "user_tz": -420
    },
    "id": "FkYxkPDA7UZ1"
   },
   "outputs": [],
   "source": [
    "text = []\n",
    "for p in paragraphs:\n",
    "  text.append(p.text)"
   ]
  },
  {
   "cell_type": "markdown",
   "metadata": {
    "colab_type": "text",
    "id": "gDOWODmozWpC"
   },
   "source": [
    "# Data Preprocessing"
   ]
  },
  {
   "cell_type": "code",
   "execution_count": 46,
   "metadata": {
    "colab": {},
    "colab_type": "code",
    "executionInfo": {
     "elapsed": 780,
     "status": "ok",
     "timestamp": 1599575850058,
     "user": {
      "displayName": "Reza Dwi Utomo",
      "photoUrl": "https://lh3.googleusercontent.com/a-/AOh14GjuLhy_JmgD4iWFIjOE-G6ClGlqtizVTS9lhAZQ=s64",
      "userId": "08330585941225764736"
     },
     "user_tz": -420
    },
    "id": "Na_i03UjIfLf"
   },
   "outputs": [],
   "source": [
    "text_ready = ' '.join(text[5:7])"
   ]
  },
  {
   "cell_type": "code",
   "execution_count": 45,
   "metadata": {
    "colab": {
     "base_uri": "https://localhost:8080/",
     "height": 137
    },
    "colab_type": "code",
    "executionInfo": {
     "elapsed": 881,
     "status": "ok",
     "timestamp": 1599575767045,
     "user": {
      "displayName": "Reza Dwi Utomo",
      "photoUrl": "https://lh3.googleusercontent.com/a-/AOh14GjuLhy_JmgD4iWFIjOE-G6ClGlqtizVTS9lhAZQ=s64",
      "userId": "08330585941225764736"
     },
     "user_tz": -420
    },
    "id": "VsbI6UiK8bDE",
    "outputId": "7d1efa00-2578-4028-ef17-d386d7da5ede"
   },
   "outputs": [
    {
     "data": {
      "application/vnd.google.colaboratory.intrinsic+json": {
       "type": "string"
      },
      "text/plain": [
       "'Menteri BUMN Erick Thohir meluncurkan logo baru Kementerian BUMN di halaman kantor Kementerian BUMN, Jakarta, Rabu (1/7).  REPUBLIKA.CO.ID, JAKARTA -- Menteri Badan Usaha Milik Negara (BUMN) Erick Thohir secara resmi menetapkan akhlak sebagai core value dari BUMN pada Rabu (1/7). Penetapan akhlak sebagai core value BUMN bersamaan dengan acara perubahan logo dan slogan Kementerian BUMN.\"Hari ini juga saya ingin menetapkan akhlak sebagai core value bukan lip service karena kalau kita bekerja ada core value, ini yang membuat kita kuat,\" ujar Erick saat meresmikan perubahan logo dan slogan Kementerian BUMN di halaman kantor Kementerian BUMN di Jalan Medan Merdeka Selatan, Jakarta, Rabu (1/7).Erick menjadikan akhlak sebagai panduan bagi manajemen BUMN untuk dapat bekerja dengan benar demi kepentingan bangsa, bukan kepentingan pribadi atau kelompok. Erick memerinci akronim akhlak terdiri atas amanah, kompeten, harmonis, loyal, adaptif, dan kolaboratif.Erick menilai faktor akhlak sangat vital bagi BUMN untuk maju. Ia mencontohkan poin penting loyal yang harus menjadi acuan bagi manajemen BUMN bekerja untuk kepentingan bangsa dan tidak menyalahgunakan kewenangan untuk kepentingan pribadi atau kelompok.\"Ada 53 kasus hukum di BUMN yang kita nggak mau terulang lagi, ini kenapa akhlak penting,\" ungkap Erick. Kata akhlak memang lekat dengan Erick sejak awal menjabat sebagai Menteri BUMN. Dalam setiap kesempatan, mantan pemilik Inter Milan itu selalu menaruh pesan pentingnya akhlak bagi manajemen BUMN.\"InsyaAllah saya yakini dengan kerja keras kita semua dan akhlak sebagai core value, bismillah lillahi taala, Allah SWT akan memudahkan,\" kata Erick. '"
      ]
     },
     "execution_count": 45,
     "metadata": {
      "tags": []
     },
     "output_type": "execute_result"
    }
   ],
   "source": [
    "text_ready"
   ]
  },
  {
   "cell_type": "markdown",
   "metadata": {
    "colab_type": "text",
    "id": "Alalk64kznHB"
   },
   "source": [
    "# Labelling"
   ]
  },
  {
   "cell_type": "code",
   "execution_count": 57,
   "metadata": {
    "colab": {
     "base_uri": "https://localhost:8080/",
     "height": 34
    },
    "colab_type": "code",
    "executionInfo": {
     "elapsed": 749,
     "status": "ok",
     "timestamp": 1599576129762,
     "user": {
      "displayName": "Reza Dwi Utomo",
      "photoUrl": "https://lh3.googleusercontent.com/a-/AOh14GjuLhy_JmgD4iWFIjOE-G6ClGlqtizVTS9lhAZQ=s64",
      "userId": "08330585941225764736"
     },
     "user_tz": -420
    },
    "id": "Da9vGVnYx3iB",
    "outputId": "380a7f70-c900-4716-d474-de03b7de023a"
   },
   "outputs": [
    {
     "data": {
      "text/plain": [
       "['hari', 'lokasi', 'nama', 'organisasi', 'tanggal']"
      ]
     },
     "execution_count": 57,
     "metadata": {
      "tags": []
     },
     "output_type": "execute_result"
    }
   ],
   "source": [
    "annotations = sorted(['nama',\n",
    "               'tanggal',\n",
    "               'hari',\n",
    "               'lokasi',\n",
    "               'organisasi',\n",
    "               ])\n",
    "annotations"
   ]
  },
  {
   "cell_type": "code",
   "execution_count": 29,
   "metadata": {
    "colab": {
     "base_uri": "https://localhost:8080/",
     "height": 34
    },
    "colab_type": "code",
    "executionInfo": {
     "elapsed": 1116,
     "status": "ok",
     "timestamp": 1599573268619,
     "user": {
      "displayName": "Reza Dwi Utomo",
      "photoUrl": "https://lh3.googleusercontent.com/a-/AOh14GjuLhy_JmgD4iWFIjOE-G6ClGlqtizVTS9lhAZQ=s64",
      "userId": "08330585941225764736"
     },
     "user_tz": -420
    },
    "id": "Gudoc-eAf5PY",
    "outputId": "72496bd1-41b0-48a0-937d-4d27bc528c39"
   },
   "outputs": [
    {
     "name": "stdout",
     "output_type": "stream",
     "text": [
      "Drive already mounted at /content/drive/; to attempt to forcibly remount, call drive.mount(\"/content/drive/\", force_remount=True).\n"
     ]
    }
   ],
   "source": [
    "from google.colab import drive\n",
    "drive.mount('/content/drive/')"
   ]
  },
  {
   "cell_type": "code",
   "execution_count": 30,
   "metadata": {
    "colab": {},
    "colab_type": "code",
    "executionInfo": {
     "elapsed": 2282,
     "status": "ok",
     "timestamp": 1599573290904,
     "user": {
      "displayName": "Reza Dwi Utomo",
      "photoUrl": "https://lh3.googleusercontent.com/a-/AOh14GjuLhy_JmgD4iWFIjOE-G6ClGlqtizVTS9lhAZQ=s64",
      "userId": "08330585941225764736"
     },
     "user_tz": -420
    },
    "id": "_1d6oh9v4a-M"
   },
   "outputs": [],
   "source": [
    "# copy necessary file to Google Colab\n",
    "!cp \"/content/drive/My Drive/Colab Notebooks/coba/BIOtagging.py\" ."
   ]
  },
  {
   "cell_type": "code",
   "execution_count": 31,
   "metadata": {
    "colab": {
     "base_uri": "https://localhost:8080/",
     "height": 122
    },
    "colab_type": "code",
    "executionInfo": {
     "elapsed": 4836,
     "status": "ok",
     "timestamp": 1599573298948,
     "user": {
      "displayName": "Reza Dwi Utomo",
      "photoUrl": "https://lh3.googleusercontent.com/a-/AOh14GjuLhy_JmgD4iWFIjOE-G6ClGlqtizVTS9lhAZQ=s64",
      "userId": "08330585941225764736"
     },
     "user_tz": -420
    },
    "id": "PRJFI9wI5B8J",
    "outputId": "4388d493-10b1-4091-8f8c-9a78635e1a99"
   },
   "outputs": [
    {
     "name": "stdout",
     "output_type": "stream",
     "text": [
      "Collecting sastrawi\n",
      "\u001b[?25l  Downloading https://files.pythonhosted.org/packages/6f/4b/bab676953da3103003730b8fcdfadbdd20f333d4add10af949dd5c51e6ed/Sastrawi-1.0.1-py2.py3-none-any.whl (209kB)\n",
      "\r",
      "\u001b[K     |█▋                              | 10kB 16.9MB/s eta 0:00:01\r",
      "\u001b[K     |███▏                            | 20kB 1.5MB/s eta 0:00:01\r",
      "\u001b[K     |████▊                           | 30kB 1.8MB/s eta 0:00:01\r",
      "\u001b[K     |██████▎                         | 40kB 2.1MB/s eta 0:00:01\r",
      "\u001b[K     |███████▉                        | 51kB 2.0MB/s eta 0:00:01\r",
      "\u001b[K     |█████████▍                      | 61kB 2.2MB/s eta 0:00:01\r",
      "\u001b[K     |███████████                     | 71kB 2.4MB/s eta 0:00:01\r",
      "\u001b[K     |████████████▌                   | 81kB 2.6MB/s eta 0:00:01\r",
      "\u001b[K     |██████████████                  | 92kB 2.5MB/s eta 0:00:01\r",
      "\u001b[K     |███████████████▋                | 102kB 2.7MB/s eta 0:00:01\r",
      "\u001b[K     |█████████████████▏              | 112kB 2.7MB/s eta 0:00:01\r",
      "\u001b[K     |██████████████████▊             | 122kB 2.7MB/s eta 0:00:01\r",
      "\u001b[K     |████████████████████▎           | 133kB 2.7MB/s eta 0:00:01\r",
      "\u001b[K     |█████████████████████▉          | 143kB 2.7MB/s eta 0:00:01\r",
      "\u001b[K     |███████████████████████▍        | 153kB 2.7MB/s eta 0:00:01\r",
      "\u001b[K     |█████████████████████████       | 163kB 2.7MB/s eta 0:00:01\r",
      "\u001b[K     |██████████████████████████▋     | 174kB 2.7MB/s eta 0:00:01\r",
      "\u001b[K     |████████████████████████████▏   | 184kB 2.7MB/s eta 0:00:01\r",
      "\u001b[K     |█████████████████████████████▊  | 194kB 2.7MB/s eta 0:00:01\r",
      "\u001b[K     |███████████████████████████████▎| 204kB 2.7MB/s eta 0:00:01\r",
      "\u001b[K     |████████████████████████████████| 215kB 2.7MB/s \n",
      "\u001b[?25hInstalling collected packages: sastrawi\n",
      "Successfully installed sastrawi-1.0.1\n"
     ]
    }
   ],
   "source": [
    "# install Sastrawi\n",
    "!pip install sastrawi"
   ]
  },
  {
   "cell_type": "code",
   "execution_count": 32,
   "metadata": {
    "colab": {},
    "colab_type": "code",
    "executionInfo": {
     "elapsed": 1092,
     "status": "ok",
     "timestamp": 1599573306255,
     "user": {
      "displayName": "Reza Dwi Utomo",
      "photoUrl": "https://lh3.googleusercontent.com/a-/AOh14GjuLhy_JmgD4iWFIjOE-G6ClGlqtizVTS9lhAZQ=s64",
      "userId": "08330585941225764736"
     },
     "user_tz": -420
    },
    "id": "rtcnHzEpx4FN"
   },
   "outputs": [],
   "source": [
    "from BIOtagging import PUUtext_to_tagReadyDF, convert_to_spaCyformat"
   ]
  },
  {
   "cell_type": "code",
   "execution_count": 47,
   "metadata": {
    "colab": {
     "base_uri": "https://localhost:8080/",
     "height": 34
    },
    "colab_type": "code",
    "executionInfo": {
     "elapsed": 875,
     "status": "ok",
     "timestamp": 1599575864071,
     "user": {
      "displayName": "Reza Dwi Utomo",
      "photoUrl": "https://lh3.googleusercontent.com/a-/AOh14GjuLhy_JmgD4iWFIjOE-G6ClGlqtizVTS9lhAZQ=s64",
      "userId": "08330585941225764736"
     },
     "user_tz": -420
    },
    "id": "9Em9QeI7x4V4",
    "outputId": "7e541643-03be-4aa0-8b9f-0bc68430bf3e"
   },
   "outputs": [
    {
     "name": "stderr",
     "output_type": "stream",
     "text": [
      "1it [00:00,  6.43it/s]\n"
     ]
    }
   ],
   "source": [
    "tagready_df = PUUtext_to_tagReadyDF(pd.Series([text_ready]), isCSV=False)"
   ]
  },
  {
   "cell_type": "code",
   "execution_count": 48,
   "metadata": {
    "colab": {
     "base_uri": "https://localhost:8080/",
     "height": 221
    },
    "colab_type": "code",
    "executionInfo": {
     "elapsed": 826,
     "status": "ok",
     "timestamp": 1599575866655,
     "user": {
      "displayName": "Reza Dwi Utomo",
      "photoUrl": "https://lh3.googleusercontent.com/a-/AOh14GjuLhy_JmgD4iWFIjOE-G6ClGlqtizVTS9lhAZQ=s64",
      "userId": "08330585941225764736"
     },
     "user_tz": -420
    },
    "id": "gE1v_VCdx3yM",
    "outputId": "476f9109-4947-4ccd-fbbf-5f5f15d54eee"
   },
   "outputs": [
    {
     "name": "stdout",
     "output_type": "stream",
     "text": [
      "(516, 2)\n"
     ]
    },
    {
     "data": {
      "text/html": [
       "<div>\n",
       "<style scoped>\n",
       "    .dataframe tbody tr th:only-of-type {\n",
       "        vertical-align: middle;\n",
       "    }\n",
       "\n",
       "    .dataframe tbody tr th {\n",
       "        vertical-align: top;\n",
       "    }\n",
       "\n",
       "    .dataframe thead th {\n",
       "        text-align: right;\n",
       "    }\n",
       "</style>\n",
       "<table border=\"1\" class=\"dataframe\">\n",
       "  <thead>\n",
       "    <tr style=\"text-align: right;\">\n",
       "      <th></th>\n",
       "      <th>token_0</th>\n",
       "      <th>BIO_tag_0</th>\n",
       "    </tr>\n",
       "  </thead>\n",
       "  <tbody>\n",
       "    <tr>\n",
       "      <th>0</th>\n",
       "      <td>Menteri</td>\n",
       "      <td></td>\n",
       "    </tr>\n",
       "    <tr>\n",
       "      <th>1</th>\n",
       "      <td></td>\n",
       "      <td>O</td>\n",
       "    </tr>\n",
       "    <tr>\n",
       "      <th>2</th>\n",
       "      <td>BUMN</td>\n",
       "      <td></td>\n",
       "    </tr>\n",
       "    <tr>\n",
       "      <th>3</th>\n",
       "      <td></td>\n",
       "      <td>O</td>\n",
       "    </tr>\n",
       "    <tr>\n",
       "      <th>4</th>\n",
       "      <td>Erick</td>\n",
       "      <td></td>\n",
       "    </tr>\n",
       "  </tbody>\n",
       "</table>\n",
       "</div>"
      ],
      "text/plain": [
       "   token_0 BIO_tag_0\n",
       "0  Menteri          \n",
       "1                  O\n",
       "2     BUMN          \n",
       "3                  O\n",
       "4    Erick          "
      ]
     },
     "execution_count": 48,
     "metadata": {
      "tags": []
     },
     "output_type": "execute_result"
    }
   ],
   "source": [
    "print(tagready_df.shape)\n",
    "tagready_df.head()"
   ]
  },
  {
   "cell_type": "code",
   "execution_count": 39,
   "metadata": {
    "colab": {},
    "colab_type": "code",
    "executionInfo": {
     "elapsed": 1208,
     "status": "ok",
     "timestamp": 1599574162367,
     "user": {
      "displayName": "Reza Dwi Utomo",
      "photoUrl": "https://lh3.googleusercontent.com/a-/AOh14GjuLhy_JmgD4iWFIjOE-G6ClGlqtizVTS9lhAZQ=s64",
      "userId": "08330585941225764736"
     },
     "user_tz": -420
    },
    "id": "eT93dp7Xx3DH"
   },
   "outputs": [],
   "source": [
    "link_for_save = \"/content/drive/My Drive/Colab Notebooks/coba/text_tagged.csv\"\n",
    "tagready_df.to_csv(link_for_save, index=False)"
   ]
  },
  {
   "cell_type": "code",
   "execution_count": 52,
   "metadata": {
    "colab": {},
    "colab_type": "code",
    "executionInfo": {
     "elapsed": 1625,
     "status": "ok",
     "timestamp": 1599576045692,
     "user": {
      "displayName": "Reza Dwi Utomo",
      "photoUrl": "https://lh3.googleusercontent.com/a-/AOh14GjuLhy_JmgD4iWFIjOE-G6ClGlqtizVTS9lhAZQ=s64",
      "userId": "08330585941225764736"
     },
     "user_tz": -420
    },
    "id": "14YmxEdEBtuN"
   },
   "outputs": [],
   "source": [
    "# import BIO-tagged csv file\n",
    "link_BIOtagged_file = \"/content/drive/My Drive/Colab Notebooks/coba/text_tagged_done.csv\"\n",
    "df_tagged = pd.read_csv(link_BIOtagged_file)"
   ]
  },
  {
   "cell_type": "code",
   "execution_count": 53,
   "metadata": {
    "colab": {
     "base_uri": "https://localhost:8080/",
     "height": 221
    },
    "colab_type": "code",
    "executionInfo": {
     "elapsed": 882,
     "status": "ok",
     "timestamp": 1599576048153,
     "user": {
      "displayName": "Reza Dwi Utomo",
      "photoUrl": "https://lh3.googleusercontent.com/a-/AOh14GjuLhy_JmgD4iWFIjOE-G6ClGlqtizVTS9lhAZQ=s64",
      "userId": "08330585941225764736"
     },
     "user_tz": -420
    },
    "id": "5U-fvrAxCE4e",
    "outputId": "d74879ef-96b9-44b8-9d79-8755171f47a8"
   },
   "outputs": [
    {
     "name": "stdout",
     "output_type": "stream",
     "text": [
      "(517, 2)\n"
     ]
    },
    {
     "data": {
      "text/html": [
       "<div>\n",
       "<style scoped>\n",
       "    .dataframe tbody tr th:only-of-type {\n",
       "        vertical-align: middle;\n",
       "    }\n",
       "\n",
       "    .dataframe tbody tr th {\n",
       "        vertical-align: top;\n",
       "    }\n",
       "\n",
       "    .dataframe thead th {\n",
       "        text-align: right;\n",
       "    }\n",
       "</style>\n",
       "<table border=\"1\" class=\"dataframe\">\n",
       "  <thead>\n",
       "    <tr style=\"text-align: right;\">\n",
       "      <th></th>\n",
       "      <th>token_0</th>\n",
       "      <th>BIO_tag_0</th>\n",
       "    </tr>\n",
       "  </thead>\n",
       "  <tbody>\n",
       "    <tr>\n",
       "      <th>0</th>\n",
       "      <td>Menteri</td>\n",
       "      <td>o</td>\n",
       "    </tr>\n",
       "    <tr>\n",
       "      <th>1</th>\n",
       "      <td></td>\n",
       "      <td>O</td>\n",
       "    </tr>\n",
       "    <tr>\n",
       "      <th>2</th>\n",
       "      <td>BUMN</td>\n",
       "      <td>b-organisasi</td>\n",
       "    </tr>\n",
       "    <tr>\n",
       "      <th>3</th>\n",
       "      <td></td>\n",
       "      <td>O</td>\n",
       "    </tr>\n",
       "    <tr>\n",
       "      <th>4</th>\n",
       "      <td>Erick</td>\n",
       "      <td>b-nama</td>\n",
       "    </tr>\n",
       "  </tbody>\n",
       "</table>\n",
       "</div>"
      ],
      "text/plain": [
       "   token_0     BIO_tag_0\n",
       "0  Menteri             o\n",
       "1                      O\n",
       "2     BUMN  b-organisasi\n",
       "3                      O\n",
       "4    Erick        b-nama"
      ]
     },
     "execution_count": 53,
     "metadata": {
      "tags": []
     },
     "output_type": "execute_result"
    }
   ],
   "source": [
    "print(df_tagged.shape)\n",
    "df_tagged.head()"
   ]
  },
  {
   "cell_type": "code",
   "execution_count": 58,
   "metadata": {
    "colab": {},
    "colab_type": "code",
    "executionInfo": {
     "elapsed": 849,
     "status": "ok",
     "timestamp": 1599576138367,
     "user": {
      "displayName": "Reza Dwi Utomo",
      "photoUrl": "https://lh3.googleusercontent.com/a-/AOh14GjuLhy_JmgD4iWFIjOE-G6ClGlqtizVTS9lhAZQ=s64",
      "userId": "08330585941225764736"
     },
     "user_tz": -420
    },
    "id": "2AoncXF-x2eW"
   },
   "outputs": [],
   "source": [
    "train_data = convert_to_spaCyformat(df_tagged, annotations)"
   ]
  },
  {
   "cell_type": "code",
   "execution_count": 59,
   "metadata": {
    "colab": {
     "base_uri": "https://localhost:8080/",
     "height": 615
    },
    "colab_type": "code",
    "executionInfo": {
     "elapsed": 1019,
     "status": "ok",
     "timestamp": 1599576148371,
     "user": {
      "displayName": "Reza Dwi Utomo",
      "photoUrl": "https://lh3.googleusercontent.com/a-/AOh14GjuLhy_JmgD4iWFIjOE-G6ClGlqtizVTS9lhAZQ=s64",
      "userId": "08330585941225764736"
     },
     "user_tz": -420
    },
    "id": "vpSB_45SKvki",
    "outputId": "7349d76d-53d0-45b6-ef3b-d4ce6e25dfc4"
   },
   "outputs": [
    {
     "data": {
      "text/plain": [
       "[\"Menteri BUMN Erick Thohir meluncurkan logo baru Kementerian BUMN di halaman kantor Kementerian BUMN, Jakarta, Rabu (01-Jul). REPUBLIKA.CO.ID, JAKARTA -- Menteri Badan Usaha Milik Negara (BUMN) Erick Thohir secara resmi menetapkan akhlak sebagai core value dari BUMN pada Rabu (01-Jul). Penetapan akhlak sebagai core value BUMN bersamaan dengan acara perubahan logo dan slogan Kementerian BUMN.``Hari ini juga saya ingin menetapkan akhlak sebagai core value bukan lip service karena kalau kita bekerja ada core value, ini yang membuat kita kuat,'' ujar Erick saat meresmikan perubahan logo dan slogan Kementerian BUMN di halaman kantor Kementerian BUMN di Jalan Medan Merdeka Selatan, Jakarta, Rabu (01-Jul).Erick menjadikan akhlak sebagai panduan bagi manajemen BUMN untuk dapat bekerja dengan benar demi kepentingan bangsa, bukan kepentingan pribadi atau kelompok. Erick memerinci akronim akhlak terdiri atas amanah, kompeten, harmonis, loyal, adaptif, dan kolaboratif.Erick menilai faktor akhlak sangat vital bagi BUMN untuk maju. Ia mencontohkan poin penting loyal yang harus menjadi acuan bagi manajemen BUMN bekerja untuk kepentingan bangsa dan tidak menyalahgunakan kewenangan untuk kepentingan pribadi atau kelompok.``Ada 53 kasus hukum di BUMN yang kita nggak mau terulang lagi, ini kenapa akhlak penting,'' ungkap Erick. Kata akhlak memang lekat dengan Erick sejak awal menjabat sebagai Menteri BUMN. Dalam setiap kesempatan, mantan pemilik Inter Milan itu selalu menaruh pesan pentingnya akhlak bagi manajemen BUMN.``InsyaAllah saya yakini dengan kerja keras kita semua dan akhlak sebagai core value, bismillah lillahi taala, Allah SWT akan memudahkan,'' kata Erick.\",\n",
       " {'entities': [(8, 12, 'organisasi'),\n",
       "   (13, 25, 'nama'),\n",
       "   (48, 64, 'organisasi'),\n",
       "   (83, 99, 'organisasi'),\n",
       "   (101, 108, 'lokasi'),\n",
       "   (110, 114, 'hari'),\n",
       "   (116, 122, 'tanggal'),\n",
       "   (142, 149, 'lokasi'),\n",
       "   (161, 192, 'organisasi'),\n",
       "   (193, 205, 'nama'),\n",
       "   (261, 265, 'organisasi'),\n",
       "   (271, 275, 'hari'),\n",
       "   (277, 283, 'tanggal'),\n",
       "   (322, 326, 'organisasi'),\n",
       "   (376, 392, 'organisasi'),\n",
       "   (552, 557, 'nama'),\n",
       "   (600, 616, 'organisasi'),\n",
       "   (635, 651, 'organisasi'),\n",
       "   (655, 691, 'lokasi'),\n",
       "   (693, 697, 'hari'),\n",
       "   (699, 705, 'tanggal'),\n",
       "   (706, 712, 'nama'),\n",
       "   (762, 766, 'organisasi'),\n",
       "   (866, 871, 'nama'),\n",
       "   (970, 975, 'nama'),\n",
       "   (1016, 1020, 'organisasi'),\n",
       "   (1108, 1112, 'organisasi'),\n",
       "   (1323, 1328, 'nama'),\n",
       "   (1362, 1367, 'nama'),\n",
       "   (1404, 1408, 'organisasi'),\n",
       "   (1450, 1461, 'organisasi'),\n",
       "   (1520, 1524, 'organisasi'),\n",
       "   (1670, 1675, 'nama')]}]"
      ]
     },
     "execution_count": 59,
     "metadata": {
      "tags": []
     },
     "output_type": "execute_result"
    }
   ],
   "source": [
    "train_data"
   ]
  },
  {
   "cell_type": "markdown",
   "metadata": {
    "colab_type": "text",
    "id": "TirVi5vXCZRF"
   },
   "source": [
    "# Training"
   ]
  },
  {
   "cell_type": "code",
   "execution_count": 60,
   "metadata": {
    "colab": {},
    "colab_type": "code",
    "executionInfo": {
     "elapsed": 1758,
     "status": "ok",
     "timestamp": 1599576353605,
     "user": {
      "displayName": "Reza Dwi Utomo",
      "photoUrl": "https://lh3.googleusercontent.com/a-/AOh14GjuLhy_JmgD4iWFIjOE-G6ClGlqtizVTS9lhAZQ=s64",
      "userId": "08330585941225764736"
     },
     "user_tz": -420
    },
    "id": "xgX6-TQXCaeH"
   },
   "outputs": [],
   "source": [
    "# copy necessary file to Google Colab\n",
    "!cp \"/content/drive/My Drive/Colab Notebooks/coba/train_spacy.py\" ."
   ]
  },
  {
   "cell_type": "code",
   "execution_count": 61,
   "metadata": {
    "colab": {},
    "colab_type": "code",
    "executionInfo": {
     "elapsed": 1616,
     "status": "ok",
     "timestamp": 1599576366899,
     "user": {
      "displayName": "Reza Dwi Utomo",
      "photoUrl": "https://lh3.googleusercontent.com/a-/AOh14GjuLhy_JmgD4iWFIjOE-G6ClGlqtizVTS9lhAZQ=s64",
      "userId": "08330585941225764736"
     },
     "user_tz": -420
    },
    "id": "i0WyNjrXLiOm"
   },
   "outputs": [],
   "source": [
    "# import the function to train using spaCy\n",
    "from train_spacy import train_spacy"
   ]
  },
  {
   "cell_type": "code",
   "execution_count": 65,
   "metadata": {
    "colab": {
     "base_uri": "https://localhost:8080/",
     "height": 1000
    },
    "colab_type": "code",
    "executionInfo": {
     "elapsed": 29702,
     "status": "ok",
     "timestamp": 1599576504468,
     "user": {
      "displayName": "Reza Dwi Utomo",
      "photoUrl": "https://lh3.googleusercontent.com/a-/AOh14GjuLhy_JmgD4iWFIjOE-G6ClGlqtizVTS9lhAZQ=s64",
      "userId": "08330585941225764736"
     },
     "user_tz": -420
    },
    "id": "zbQVGfzvLlgc",
    "outputId": "e87c180f-ba8c-4b38-855f-2fe43810d9b8"
   },
   "outputs": [
    {
     "name": "stdout",
     "output_type": "stream",
     "text": [
      "Starting iteration 0\n",
      "{'ner': 266.590927362442}\n",
      "Starting iteration 1\n",
      "{'ner': 247.9836745262146}\n",
      "Starting iteration 2\n",
      "{'ner': 254.46868348121643}\n",
      "Starting iteration 3\n",
      "{'ner': 232.91919040679932}\n",
      "Starting iteration 4\n",
      "{'ner': 178.97161054611206}\n",
      "Starting iteration 5\n",
      "{'ner': 78.30117076635361}\n",
      "Starting iteration 6\n",
      "{'ner': 54.28650140017271}\n",
      "Starting iteration 7\n",
      "{'ner': 53.597170157474466}\n",
      "Starting iteration 8\n",
      "{'ner': 54.963263775578525}\n",
      "Starting iteration 9\n",
      "{'ner': 53.17476368880307}\n",
      "Starting iteration 10\n",
      "{'ner': 48.54529447325331}\n",
      "Starting iteration 11\n",
      "{'ner': 40.657057739794254}\n",
      "Starting iteration 12\n",
      "{'ner': 37.71439354866743}\n",
      "Starting iteration 13\n",
      "{'ner': 34.558314465451986}\n",
      "Starting iteration 14\n",
      "{'ner': 108.50533354282379}\n",
      "Starting iteration 15\n",
      "{'ner': 138.6919328868389}\n",
      "Starting iteration 16\n",
      "{'ner': 37.224734015762806}\n",
      "Starting iteration 17\n",
      "{'ner': 79.64229467511177}\n",
      "Starting iteration 18\n",
      "{'ner': 36.46090967953205}\n",
      "Starting iteration 19\n",
      "{'ner': 35.55867122299969}\n",
      "Starting iteration 20\n",
      "{'ner': 31.8680018465966}\n",
      "Starting iteration 21\n",
      "{'ner': 86.58112600445747}\n",
      "Starting iteration 22\n",
      "{'ner': 38.79720342418295}\n",
      "Starting iteration 23\n",
      "{'ner': 51.25747787952423}\n",
      "Starting iteration 24\n",
      "{'ner': 90.37828260660172}\n",
      "Starting iteration 25\n",
      "{'ner': 42.087996571091935}\n",
      "Starting iteration 26\n",
      "{'ner': 27.917842036113143}\n",
      "Starting iteration 27\n",
      "{'ner': 40.27894372725859}\n",
      "Starting iteration 28\n",
      "{'ner': 51.988403756637126}\n",
      "Starting iteration 29\n",
      "{'ner': 69.668996194785}\n",
      "Starting iteration 30\n",
      "{'ner': 45.44887030601967}\n",
      "Starting iteration 31\n",
      "{'ner': 32.14256616961211}\n",
      "Starting iteration 32\n",
      "{'ner': 30.659647122145543}\n",
      "Starting iteration 33\n",
      "{'ner': 27.993297495646402}\n",
      "Starting iteration 34\n",
      "{'ner': 36.90273362744006}\n",
      "Starting iteration 35\n",
      "{'ner': 34.94816292728137}\n",
      "Starting iteration 36\n",
      "{'ner': 27.574583232704786}\n",
      "Starting iteration 37\n",
      "{'ner': 23.4906874831658}\n",
      "Starting iteration 38\n",
      "{'ner': 24.3472304295708}\n",
      "Starting iteration 39\n",
      "{'ner': 24.070299638762663}\n",
      "Starting iteration 40\n",
      "{'ner': 26.861602431080556}\n",
      "Starting iteration 41\n",
      "{'ner': 38.433486937339524}\n",
      "Starting iteration 42\n",
      "{'ner': 53.216287521927484}\n",
      "Starting iteration 43\n",
      "{'ner': 46.025765627622604}\n",
      "Starting iteration 44\n",
      "{'ner': 51.82287229227768}\n",
      "Starting iteration 45\n",
      "{'ner': 38.2936374126366}\n",
      "Starting iteration 46\n",
      "{'ner': 34.953345972055104}\n",
      "Starting iteration 47\n",
      "{'ner': 16.887393913115375}\n",
      "Starting iteration 48\n",
      "{'ner': 15.747529750515241}\n",
      "Starting iteration 49\n",
      "{'ner': 14.471226481720805}\n",
      "Starting iteration 50\n",
      "{'ner': 15.85179141338449}\n",
      "Starting iteration 51\n",
      "{'ner': 32.20517995022237}\n",
      "Starting iteration 52\n",
      "{'ner': 17.401395198132377}\n",
      "Starting iteration 53\n",
      "{'ner': 21.56210546742659}\n",
      "Starting iteration 54\n",
      "{'ner': 36.64557533507468}\n",
      "Starting iteration 55\n",
      "{'ner': 32.21639136780868}\n",
      "Starting iteration 56\n",
      "{'ner': 39.24753929509234}\n",
      "Starting iteration 57\n",
      "{'ner': 33.89755172724688}\n",
      "Starting iteration 58\n",
      "{'ner': 22.97187830015673}\n",
      "Starting iteration 59\n",
      "{'ner': 111.54782891273499}\n",
      "Starting iteration 60\n",
      "{'ner': 113.4100348025022}\n",
      "Starting iteration 61\n",
      "{'ner': 71.542749760265}\n",
      "Starting iteration 62\n",
      "{'ner': 27.610714208582067}\n",
      "Starting iteration 63\n",
      "{'ner': 18.301838574123394}\n",
      "Starting iteration 64\n",
      "{'ner': 15.475390451257795}\n",
      "Starting iteration 65\n",
      "{'ner': 8.279465486572008}\n",
      "Starting iteration 66\n",
      "{'ner': 10.575981481839861}\n",
      "Starting iteration 67\n",
      "{'ner': 13.19413823250859}\n",
      "Starting iteration 68\n",
      "{'ner': 13.438340903063363}\n",
      "Starting iteration 69\n",
      "{'ner': 13.113790659350343}\n",
      "Starting iteration 70\n",
      "{'ner': 9.701953738730083}\n",
      "Starting iteration 71\n",
      "{'ner': 10.085341276096187}\n",
      "Starting iteration 72\n",
      "{'ner': 7.007974307518907}\n",
      "Starting iteration 73\n",
      "{'ner': 21.153167612476864}\n",
      "Starting iteration 74\n",
      "{'ner': 19.032742803840392}\n",
      "Starting iteration 75\n",
      "{'ner': 15.948559596180985}\n",
      "Starting iteration 76\n",
      "{'ner': 13.08363390015279}\n",
      "Starting iteration 77\n",
      "{'ner': 8.128385460237041}\n",
      "Starting iteration 78\n",
      "{'ner': 6.0561264325806405}\n",
      "Starting iteration 79\n",
      "{'ner': 4.746239320229506}\n",
      "Starting iteration 80\n",
      "{'ner': 2.9647413961502025}\n",
      "Starting iteration 81\n",
      "{'ner': 10.23178318538703}\n",
      "Starting iteration 82\n",
      "{'ner': 9.007091887004208}\n",
      "Starting iteration 83\n",
      "{'ner': 8.07369159596346}\n",
      "Starting iteration 84\n",
      "{'ner': 8.455213994731594}\n",
      "Starting iteration 85\n",
      "{'ner': 5.010616589438314}\n",
      "Starting iteration 86\n",
      "{'ner': 1.9094742901176378}\n",
      "Starting iteration 87\n",
      "{'ner': 0.753836941162831}\n",
      "Starting iteration 88\n",
      "{'ner': 0.29353583537677785}\n",
      "Starting iteration 89\n",
      "{'ner': 0.10101552956144977}\n",
      "Starting iteration 90\n",
      "{'ner': 0.03831902444811552}\n",
      "Starting iteration 91\n",
      "{'ner': 0.01600458108413562}\n",
      "Starting iteration 92\n",
      "{'ner': 0.006067230976218215}\n",
      "Starting iteration 93\n",
      "{'ner': 0.0020272052801146856}\n",
      "Starting iteration 94\n",
      "{'ner': 0.0006032877265601845}\n",
      "Starting iteration 95\n",
      "{'ner': 0.00014726293872469043}\n",
      "Starting iteration 96\n",
      "{'ner': 4.135179980342945e-05}\n",
      "Starting iteration 97\n",
      "{'ner': 1.6914517561126126e-05}\n",
      "Starting iteration 98\n",
      "{'ner': 8.468178899133003e-06}\n",
      "Starting iteration 99\n",
      "{'ner': 4.559594938954338e-06}\n"
     ]
    }
   ],
   "source": [
    "# training model\n",
    "model, loss = train_spacy([train_data], 100)"
   ]
  },
  {
   "cell_type": "code",
   "execution_count": 67,
   "metadata": {
    "colab": {},
    "colab_type": "code",
    "executionInfo": {
     "elapsed": 845,
     "status": "ok",
     "timestamp": 1599576584358,
     "user": {
      "displayName": "Reza Dwi Utomo",
      "photoUrl": "https://lh3.googleusercontent.com/a-/AOh14GjuLhy_JmgD4iWFIjOE-G6ClGlqtizVTS9lhAZQ=s64",
      "userId": "08330585941225764736"
     },
     "user_tz": -420
    },
    "id": "JHGa7yOwMXTG"
   },
   "outputs": [],
   "source": [
    "from matplotlib import pyplot as plt"
   ]
  },
  {
   "cell_type": "code",
   "execution_count": 68,
   "metadata": {
    "colab": {
     "base_uri": "https://localhost:8080/",
     "height": 513
    },
    "colab_type": "code",
    "executionInfo": {
     "elapsed": 1093,
     "status": "ok",
     "timestamp": 1599576586791,
     "user": {
      "displayName": "Reza Dwi Utomo",
      "photoUrl": "https://lh3.googleusercontent.com/a-/AOh14GjuLhy_JmgD4iWFIjOE-G6ClGlqtizVTS9lhAZQ=s64",
      "userId": "08330585941225764736"
     },
     "user_tz": -420
    },
    "id": "587JQqncLuys",
    "outputId": "88abd6fe-d847-4568-f115-7739d5e4b447"
   },
   "outputs": [
    {
     "data": {
      "image/png": "[encoded data removed]",
      "text/plain": [
       "<Figure size 864x576 with 1 Axes>"
      ]
     },
     "metadata": {
      "needs_background": "light",
      "tags": []
     },
     "output_type": "display_data"
    }
   ],
   "source": [
    "plt.figure(figsize=(12,8))\n",
    "plt.plot([i['ner'] for i in loss])\n",
    "plt.grid()\n",
    "plt.title('Loss Function')\n",
    "plt.xlabel('Epoch')\n",
    "plt.ylabel('Loss')\n",
    "plt.show()"
   ]
  },
  {
   "cell_type": "code",
   "execution_count": 71,
   "metadata": {
    "colab": {
     "base_uri": "https://localhost:8080/",
     "height": 34
    },
    "colab_type": "code",
    "executionInfo": {
     "elapsed": 8516,
     "status": "ok",
     "timestamp": 1599576735057,
     "user": {
      "displayName": "Reza Dwi Utomo",
      "photoUrl": "https://lh3.googleusercontent.com/a-/AOh14GjuLhy_JmgD4iWFIjOE-G6ClGlqtizVTS9lhAZQ=s64",
      "userId": "08330585941225764736"
     },
     "user_tz": -420
    },
    "id": "imq52WlkMdkm",
    "outputId": "1eae6b3a-e8b5-41dc-88ba-73650c033926"
   },
   "outputs": [
    {
     "name": "stdout",
     "output_type": "stream",
     "text": [
      "Enter your Model Name: model_NER\n"
     ]
    }
   ],
   "source": [
    "# Save our trained model\n",
    "link_save_model = \"/content/drive/My Drive/Colab Notebooks/coba/\"\n",
    "modelfile = input(\"Enter your Model Name: \")\n",
    "model.to_disk(link_save_model + modelfile)"
   ]
  },
  {
   "cell_type": "markdown",
   "metadata": {
    "colab_type": "text",
    "id": "BbIWm9aLNBvh"
   },
   "source": [
    "# Evaluation"
   ]
  },
  {
   "cell_type": "code",
   "execution_count": 80,
   "metadata": {
    "colab": {},
    "colab_type": "code",
    "executionInfo": {
     "elapsed": 610,
     "status": "ok",
     "timestamp": 1599577146728,
     "user": {
      "displayName": "Reza Dwi Utomo",
      "photoUrl": "https://lh3.googleusercontent.com/a-/AOh14GjuLhy_JmgD4iWFIjOE-G6ClGlqtizVTS9lhAZQ=s64",
      "userId": "08330585941225764736"
     },
     "user_tz": -420
    },
    "id": "Y3Aj63uPNV4v"
   },
   "outputs": [],
   "source": [
    "from spacy import load, displacy"
   ]
  },
  {
   "cell_type": "code",
   "execution_count": 74,
   "metadata": {
    "colab": {},
    "colab_type": "code",
    "executionInfo": {
     "elapsed": 37632,
     "status": "ok",
     "timestamp": 1599576869607,
     "user": {
      "displayName": "Reza Dwi Utomo",
      "photoUrl": "https://lh3.googleusercontent.com/a-/AOh14GjuLhy_JmgD4iWFIjOE-G6ClGlqtizVTS9lhAZQ=s64",
      "userId": "08330585941225764736"
     },
     "user_tz": -420
    },
    "id": "oUGkaSshNDVe"
   },
   "outputs": [],
   "source": [
    "# import model\n",
    "link_to_model = \"/content/drive/My Drive/Colab Notebooks/coba/model_NER\"\n",
    "loaded_model = load(link_to_model)"
   ]
  },
  {
   "cell_type": "code",
   "execution_count": 78,
   "metadata": {
    "colab": {},
    "colab_type": "code",
    "executionInfo": {
     "elapsed": 877,
     "status": "ok",
     "timestamp": 1599577068138,
     "user": {
      "displayName": "Reza Dwi Utomo",
      "photoUrl": "https://lh3.googleusercontent.com/a-/AOh14GjuLhy_JmgD4iWFIjOE-G6ClGlqtizVTS9lhAZQ=s64",
      "userId": "08330585941225764736"
     },
     "user_tz": -420
    },
    "id": "tpPMuVumODdq"
   },
   "outputs": [],
   "source": [
    "# text source: 'https://www.antaranews.com/berita/1584798/erick-tetapkan-akhlak-sebagai-core-value-bumn'\n",
    "test_text = \"\"\"Jakarta (ANTARA) - Menteri Badan Usaha Milik Negara (BUMN) Erick Thohir menetapkan Amanah, Kompeten, Harmonis, Loyal, Adaptif, dan Kolaboratif ( AKHLAK)  sebagai \"core value\" di lingkungan kementerian. \"Hari ini, juga saya ingin menetapkan AKHLAK sebagai 'core value', bukan 'lips service', karena kalau kita bekerja ada 'core value' ini yang membuat kita kuat,\" ujar Menteri Erick di sela sambutan peluncuran logo baru Kementerian BUMN di Kantor Kementerian BUMN, Jakarta, Rabu. Ia mengatakan AKHLAK menjadi nilai-nilai organisasi Kementerian BUMN untuk maju.\"\"\""
   ]
  },
  {
   "cell_type": "code",
   "execution_count": 81,
   "metadata": {
    "colab": {
     "base_uri": "https://localhost:8080/",
     "height": 681
    },
    "colab_type": "code",
    "executionInfo": {
     "elapsed": 844,
     "status": "ok",
     "timestamp": 1599577149327,
     "user": {
      "displayName": "Reza Dwi Utomo",
      "photoUrl": "https://lh3.googleusercontent.com/a-/AOh14GjuLhy_JmgD4iWFIjOE-G6ClGlqtizVTS9lhAZQ=s64",
      "userId": "08330585941225764736"
     },
     "user_tz": -420
    },
    "id": "DZTglvWYORu-",
    "outputId": "e99903b0-d308-4ee5-aff9-afbe7f7cfd9d"
   },
   "outputs": [
    {
     "data": {
      "application/vnd.google.colaboratory.intrinsic+json": {
       "type": "string"
      },
      "text/plain": [
       "'<div class=\"entities\" style=\"line-height: 2.5; direction: ltr\">\\n<mark class=\"entity\" style=\"background: #ddd; padding: 0.45em 0.6em; margin: 0 0.25em; line-height: 1; border-radius: 0.35em;\">\\n    Jakarta\\n    <span style=\"font-size: 0.8em; font-weight: bold; line-height: 1; border-radius: 0.35em; text-transform: uppercase; vertical-align: middle; margin-left: 0.5rem\">hari</span>\\n</mark>\\n (ANTARA\\n<mark class=\"entity\" style=\"background: #ddd; padding: 0.45em 0.6em; margin: 0 0.25em; line-height: 1; border-radius: 0.35em;\">\\n    )\\n    <span style=\"font-size: 0.8em; font-weight: bold; line-height: 1; border-radius: 0.35em; text-transform: uppercase; vertical-align: middle; margin-left: 0.5rem\">organisasi</span>\\n</mark>\\n - Menteri \\n<mark class=\"entity\" style=\"background: #ddd; padding: 0.45em 0.6em; margin: 0 0.25em; line-height: 1; border-radius: 0.35em;\">\\n    Badan Usaha Milik Negara (BUMN)\\n    <span style=\"font-size: 0.8em; font-weight: bold; line-height: 1; border-radius: 0.35em; text-transform: uppercase; vertical-align: middle; margin-left: 0.5rem\">organisasi</span>\\n</mark>\\n \\n<mark class=\"entity\" style=\"background: #ddd; padding: 0.45em 0.6em; margin: 0 0.25em; line-height: 1; border-radius: 0.35em;\">\\n    Erick Thohir\\n    <span style=\"font-size: 0.8em; font-weight: bold; line-height: 1; border-radius: 0.35em; text-transform: uppercase; vertical-align: middle; margin-left: 0.5rem\">nama</span>\\n</mark>\\n menetapkan Amanah, \\n<mark class=\"entity\" style=\"background: #ddd; padding: 0.45em 0.6em; margin: 0 0.25em; line-height: 1; border-radius: 0.35em;\">\\n    Kompeten\\n    <span style=\"font-size: 0.8em; font-weight: bold; line-height: 1; border-radius: 0.35em; text-transform: uppercase; vertical-align: middle; margin-left: 0.5rem\">organisasi</span>\\n</mark>\\n, \\n<mark class=\"entity\" style=\"background: #ddd; padding: 0.45em 0.6em; margin: 0 0.25em; line-height: 1; border-radius: 0.35em;\">\\n    Harmonis\\n    <span style=\"font-size: 0.8em; font-weight: bold; line-height: 1; border-radius: 0.35em; text-transform: uppercase; vertical-align: middle; margin-left: 0.5rem\">lokasi</span>\\n</mark>\\n, \\n<mark class=\"entity\" style=\"background: #ddd; padding: 0.45em 0.6em; margin: 0 0.25em; line-height: 1; border-radius: 0.35em;\">\\n    Loyal\\n    <span style=\"font-size: 0.8em; font-weight: bold; line-height: 1; border-radius: 0.35em; text-transform: uppercase; vertical-align: middle; margin-left: 0.5rem\">hari</span>\\n</mark>\\n, \\n<mark class=\"entity\" style=\"background: #ddd; padding: 0.45em 0.6em; margin: 0 0.25em; line-height: 1; border-radius: 0.35em;\">\\n    Adaptif\\n    <span style=\"font-size: 0.8em; font-weight: bold; line-height: 1; border-radius: 0.35em; text-transform: uppercase; vertical-align: middle; margin-left: 0.5rem\">lokasi</span>\\n</mark>\\n, dan \\n<mark class=\"entity\" style=\"background: #ddd; padding: 0.45em 0.6em; margin: 0 0.25em; line-height: 1; border-radius: 0.35em;\">\\n    Kolaboratif\\n    <span style=\"font-size: 0.8em; font-weight: bold; line-height: 1; border-radius: 0.35em; text-transform: uppercase; vertical-align: middle; margin-left: 0.5rem\">nama</span>\\n</mark>\\n ( AKHLAK)  sebagai &quot;core value\\n<mark class=\"entity\" style=\"background: #ddd; padding: 0.45em 0.6em; margin: 0 0.25em; line-height: 1; border-radius: 0.35em;\">\\n    &quot;\\n    <span style=\"font-size: 0.8em; font-weight: bold; line-height: 1; border-radius: 0.35em; text-transform: uppercase; vertical-align: middle; margin-left: 0.5rem\">organisasi</span>\\n</mark>\\n di lingkungan kementerian. &quot;Hari ini, juga saya ingin menetapkan AKHLAK sebagai \\'core value\\', bukan \\'lips service\\', karena kalau kita bekerja ada \\'core value\\' ini yang membuat kita kuat,\\n<mark class=\"entity\" style=\"background: #ddd; padding: 0.45em 0.6em; margin: 0 0.25em; line-height: 1; border-radius: 0.35em;\">\\n    &quot;\\n    <span style=\"font-size: 0.8em; font-weight: bold; line-height: 1; border-radius: 0.35em; text-transform: uppercase; vertical-align: middle; margin-left: 0.5rem\">nama</span>\\n</mark>\\n ujar Menteri \\n<mark class=\"entity\" style=\"background: #ddd; padding: 0.45em 0.6em; margin: 0 0.25em; line-height: 1; border-radius: 0.35em;\">\\n    Erick\\n    <span style=\"font-size: 0.8em; font-weight: bold; line-height: 1; border-radius: 0.35em; text-transform: uppercase; vertical-align: middle; margin-left: 0.5rem\">nama</span>\\n</mark>\\n di sela sambutan peluncuran logo baru \\n<mark class=\"entity\" style=\"background: #ddd; padding: 0.45em 0.6em; margin: 0 0.25em; line-height: 1; border-radius: 0.35em;\">\\n    Kementerian BUMN\\n    <span style=\"font-size: 0.8em; font-weight: bold; line-height: 1; border-radius: 0.35em; text-transform: uppercase; vertical-align: middle; margin-left: 0.5rem\">organisasi</span>\\n</mark>\\n di \\n<mark class=\"entity\" style=\"background: #ddd; padding: 0.45em 0.6em; margin: 0 0.25em; line-height: 1; border-radius: 0.35em;\">\\n    Kantor Kementerian BUMN, Jakarta\\n    <span style=\"font-size: 0.8em; font-weight: bold; line-height: 1; border-radius: 0.35em; text-transform: uppercase; vertical-align: middle; margin-left: 0.5rem\">lokasi</span>\\n</mark>\\n, \\n<mark class=\"entity\" style=\"background: #ddd; padding: 0.45em 0.6em; margin: 0 0.25em; line-height: 1; border-radius: 0.35em;\">\\n    Rabu\\n    <span style=\"font-size: 0.8em; font-weight: bold; line-height: 1; border-radius: 0.35em; text-transform: uppercase; vertical-align: middle; margin-left: 0.5rem\">hari</span>\\n</mark>\\n. Ia mengatakan \\n<mark class=\"entity\" style=\"background: #ddd; padding: 0.45em 0.6em; margin: 0 0.25em; line-height: 1; border-radius: 0.35em;\">\\n    AKHLAK\\n    <span style=\"font-size: 0.8em; font-weight: bold; line-height: 1; border-radius: 0.35em; text-transform: uppercase; vertical-align: middle; margin-left: 0.5rem\">organisasi</span>\\n</mark>\\n menjadi nilai-nilai organisasi \\n<mark class=\"entity\" style=\"background: #ddd; padding: 0.45em 0.6em; margin: 0 0.25em; line-height: 1; border-radius: 0.35em;\">\\n    Kementerian BUMN\\n    <span style=\"font-size: 0.8em; font-weight: bold; line-height: 1; border-radius: 0.35em; text-transform: uppercase; vertical-align: middle; margin-left: 0.5rem\">organisasi</span>\\n</mark>\\n untuk maju.</div>'"
      ]
     },
     "execution_count": 81,
     "metadata": {
      "tags": []
     },
     "output_type": "execute_result"
    }
   ],
   "source": [
    "doc = loaded_model(test_text)\n",
    "displacy.render(doc, style=\"ent\")"
   ]
  },
  {
   "cell_type": "code",
   "execution_count": 88,
   "metadata": {
    "colab": {
     "base_uri": "https://localhost:8080/",
     "height": 86
    },
    "colab_type": "code",
    "executionInfo": {
     "elapsed": 889,
     "status": "ok",
     "timestamp": 1599577295707,
     "user": {
      "displayName": "Reza Dwi Utomo",
      "photoUrl": "https://lh3.googleusercontent.com/a-/AOh14GjuLhy_JmgD4iWFIjOE-G6ClGlqtizVTS9lhAZQ=s64",
      "userId": "08330585941225764736"
     },
     "user_tz": -420
    },
    "id": "y7dT4QcTOwjo",
    "outputId": "3aa8d7e1-a1ee-4320-fa4a-bcbc9f635a21"
   },
   "outputs": [
    {
     "data": {
      "application/vnd.google.colaboratory.intrinsic+json": {
       "type": "string"
      },
      "text/plain": [
       "'Jakarta (ANTARA) - Menteri Badan Usaha Milik Negara (BUMN) Erick Thohir menetapkan Amanah, Kompeten, Harmonis, Loyal, Adaptif, dan Kolaboratif ( AKHLAK)  sebagai \"core value\" di lingkungan kementerian. \"Hari ini, juga saya ingin menetapkan AKHLAK sebagai \\'core value\\', bukan \\'lips service\\', karena kalau kita bekerja ada \\'core value\\' ini yang membuat kita kuat,\" ujar Menteri Erick di sela sambutan peluncuran logo baru Kementerian BUMN di Kantor Kementerian BUMN, Jakarta, Rabu. Ia mengatakan AKHLAK menjadi nilai-nilai organisasi Kementerian BUMN untuk maju.'"
      ]
     },
     "execution_count": 88,
     "metadata": {
      "tags": []
     },
     "output_type": "execute_result"
    }
   ],
   "source": [
    "test_text"
   ]
  },
  {
   "cell_type": "code",
   "execution_count": 89,
   "metadata": {
    "colab": {
     "base_uri": "https://localhost:8080/",
     "height": 306
    },
    "colab_type": "code",
    "executionInfo": {
     "elapsed": 873,
     "status": "ok",
     "timestamp": 1599577301189,
     "user": {
      "displayName": "Reza Dwi Utomo",
      "photoUrl": "https://lh3.googleusercontent.com/a-/AOh14GjuLhy_JmgD4iWFIjOE-G6ClGlqtizVTS9lhAZQ=s64",
      "userId": "08330585941225764736"
     },
     "user_tz": -420
    },
    "id": "krXAHIg0PJM3",
    "outputId": "befa1d5c-4749-4099-94d9-ebfdfe9ec75f"
   },
   "outputs": [
    {
     "name": "stdout",
     "output_type": "stream",
     "text": [
      "Jakarta 0 7 hari\n",
      ") 15 16 organisasi\n",
      "Badan Usaha Milik Negara (BUMN) 27 58 organisasi\n",
      "Erick Thohir 59 71 nama\n",
      "Kompeten 91 99 organisasi\n",
      "Harmonis 101 109 lokasi\n",
      "Loyal 111 116 hari\n",
      "Adaptif 118 125 lokasi\n",
      "Kolaboratif 131 142 nama\n",
      "\" 173 174 organisasi\n",
      "\" 361 362 nama\n",
      "Erick 376 381 nama\n",
      "Kementerian BUMN 420 436 organisasi\n",
      "Kantor Kementerian BUMN, Jakarta 440 472 lokasi\n",
      "Rabu 474 478 hari\n",
      "AKHLAK 494 500 organisasi\n",
      "Kementerian BUMN 532 548 organisasi\n"
     ]
    }
   ],
   "source": [
    "for ent in doc.ents:\n",
    "    print(ent.text, ent.start_char, ent.end_char, ent.label_)"
   ]
  }
 ],
 "metadata": {
  "colab": {
   "authorship_tag": "ABX9TyOkFOWD8dzUWkrotpNZrxPS",
   "collapsed_sections": [],
   "mount_file_id": "148zgdDZwqngYnhROuxwfpvRK_13L-q_0",
   "name": "Untitled1.ipynb",
   "provenance": []
  },
  "kernelspec": {
   "display_name": "Python 3",
   "language": "python",
   "name": "python3"
  },
  "language_info": {
   "codemirror_mode": {
    "name": "ipython",
    "version": 3
   },
   "file_extension": ".py",
   "mimetype": "text/x-python",
   "name": "python",
   "nbconvert_exporter": "python",
   "pygments_lexer": "ipython3",
   "version": "3.7.6"
  }
 },
 "nbformat": 4,
 "nbformat_minor": 1
}
